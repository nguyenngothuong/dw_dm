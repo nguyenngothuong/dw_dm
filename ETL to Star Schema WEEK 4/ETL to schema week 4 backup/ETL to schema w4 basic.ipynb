{
 "cells": [
  {
   "cell_type": "markdown",
   "metadata": {},
   "source": [
    "# khởi tạo thư viện"
   ]
  },
  {
   "cell_type": "code",
   "execution_count": null,
   "metadata": {},
   "outputs": [],
   "source": [
    "import yaml\n",
    "import pyodbc\n",
    "from sqlalchemy import create_engine\n",
    "import pandas as pd\n",
    "\n",
    "import sys\n",
    "sys.path.append(r\"G:/My Drive/HỌC TẬP DUE/NNT_năm 4 kì 1/DW & DM/config\")\n",
    "import mdl_db_connection\n",
    "import mdl_db_query"
   ]
  },
  {
   "cell_type": "markdown",
   "metadata": {},
   "source": [
    "# connect đến db"
   ]
  },
  {
   "cell_type": "code",
   "execution_count": null,
   "metadata": {},
   "outputs": [],
   "source": [
    "conn_str, engine = mdl_db_connection.connect_db()"
   ]
  },
  {
   "cell_type": "markdown",
   "metadata": {},
   "source": [
    "# 3.chạy code"
   ]
  },
  {
   "cell_type": "markdown",
   "metadata": {},
   "source": [
    "lấy ra các cột trong table để phân loại ra các nhóm bảng"
   ]
  },
  {
   "cell_type": "code",
   "execution_count": null,
   "metadata": {},
   "outputs": [],
   "source": [
    "# # Tạo một DataFrame chứa danh sách cột\n",
    "# columns_list = df_data.columns.to_list()\n",
    "# columns_df = pd.DataFrame(columns_list, columns=[\"Column Names\"])\n",
    "\n",
    "# # Đặt tên cho tệp Excel\n",
    "# excel_filename = \"column_names.xlsx\"\n",
    "\n",
    "# # Ghi DataFrame vào tệp Excel\n",
    "# columns_df.to_excel(excel_filename, index=False)\n",
    "\n",
    "# print(f\"Danh sách cột đã được ghi vào tệp {excel_filename}\")\n",
    "# print(columns_list)"
   ]
  },
  {
   "cell_type": "markdown",
   "metadata": {},
   "source": [
    " \n",
    "## hàm thực hiện truy vấn dữ liệu"
   ]
  },
  {
   "cell_type": "markdown",
   "metadata": {},
   "source": [
    "### hàm select"
   ]
  },
  {
   "cell_type": "code",
   "execution_count": null,
   "metadata": {},
   "outputs": [],
   "source": [
    "def select_query(query):\n",
    "    global conn_str  # Khai báo rằng bạn muốn sử dụng biến conn_str toàn cục\n",
    "    print(\"CÂU TRUY VẤN\")\n",
    "    print(\"---\")\n",
    "    print(query)\n",
    "    print(\"---\")\n",
    "\n",
    "    # Kết nối đến cơ sở dữ liệu\n",
    "    conx = pyodbc.connect(conn_str) \n",
    "    \n",
    "    # Đọc dữ liệu từ truy vấn và tạo DataFrame\n",
    "    df = pd.read_sql(query, conx)\n",
    "    conx.commit()\n",
    "    # Đóng kết nối pyodbc\n",
    "    conx.close()\n",
    "\n",
    "    # Hiển thị DataFrame\n",
    "    return df\n",
    "\n",
    "\n",
    "    # print(df_data.columns.to_list())\n"
   ]
  },
  {
   "cell_type": "markdown",
   "metadata": {},
   "source": [
    "### hàm thuc thi"
   ]
  },
  {
   "cell_type": "code",
   "execution_count": null,
   "metadata": {},
   "outputs": [],
   "source": [
    "def execute_query(query, table):\n",
    "    global conn_str  # Khai báo rằng bạn muốn sử dụng biến conn_str toàn cục\n",
    "    print(\"CÂU TRUY VẤN\")\n",
    "    print(\"---\")\n",
    "    print(query)\n",
    "    print(\"---\")\n",
    "    \n",
    "    try:\n",
    "        # Kết nối đến cơ sở dữ liệu\n",
    "        conx = pyodbc.connect(conn_str)\n",
    "\n",
    "        # Thực hiện truy vấn và tạo bảng\n",
    "        cursor = conx.cursor()\n",
    "        cursor.execute(query)\n",
    "\n",
    "        # Xác nhận thay đổi\n",
    "        conx.commit()\n",
    "        print(cursor.rowcount)\n",
    "        if cursor.rowcount == -1:\n",
    "            print(\"Đã tạo bảng thành công\")\n",
    "            print(\"=\"*30)\n",
    "        else:\n",
    "            print(f\"Đã chèn {cursor.rowcount} dòng vào bảng {table}\")\n",
    "            print(\"=\"*30)\n",
    "\n",
    "\n",
    "    except Exception as e:\n",
    "        print(\"Đã xảy ra lỗi:\\n\", e)\n",
    "\n",
    "    finally:\n",
    "        # Đóng kết nối pyodbc\n",
    "        conx.close()"
   ]
  },
  {
   "cell_type": "markdown",
   "metadata": {},
   "source": [
    "## create table"
   ]
  },
  {
   "cell_type": "markdown",
   "metadata": {},
   "source": [
    "Khởi tạo thông tin chung cho database"
   ]
  },
  {
   "cell_type": "code",
   "execution_count": null,
   "metadata": {},
   "outputs": [],
   "source": [
    "# Định nghĩa các tên bảng và cột\n",
    "table_source = 'ETL_SaleDataset'\n",
    "fact_table = \"fact_table\"\n",
    "table_time = \"Dim_Time\"\n",
    "table_product = \"Dim_Product\"\n",
    "table_region = \"Dim_Region\"\n",
    "table_customer = \"Dim_Customer\"\n",
    "\n"
   ]
  },
  {
   "cell_type": "markdown",
   "metadata": {},
   "source": [
    "TẠO BẢNG DIM PRODUCT\n"
   ]
  },
  {
   "cell_type": "code",
   "execution_count": null,
   "metadata": {},
   "outputs": [],
   "source": [
    "\n",
    "# tạo bảng product\n",
    "query_create_table_product = f\"\"\"\n",
    "    USE {mdl_db_connection.database}\n",
    "    DROP TABLE IF EXISTS {table_product};\n",
    "    CREATE TABLE {table_product} (\n",
    "        ProductID nvarchar(255),\n",
    "        Product nvarchar(255),\n",
    "        Description nvarchar(255),\n",
    "        Supplier nvarchar(255),\n",
    "        [Suggested Price] float,\n",
    "        Price float,\n",
    "        primary key (ProductID)\n",
    "    );\n",
    "\"\"\"\n",
    "\n",
    "#insert dữ lijeuej vào bảng dim_product\n",
    "query_insert_into_table_product = f\"\"\"\n",
    "    INSERT INTO {table_product} (ProductID, Product, Description, Supplier, [Suggested Price], Price)\n",
    "    SELECT DISTINCT\n",
    "        ProductID,\n",
    "        Product,\n",
    "        Description,\n",
    "        Supplier,\n",
    "        [Suggested Price],\n",
    "        Price\n",
    "    FROM {table_source};\n",
    "\"\"\"\n",
    "\n",
    "# tạo bảng dim product\n",
    "# execute_query(query_create_table_product,table_product)\n",
    "mdl_db_query.create_tbl_query(query_create_table_product,table_product)\n",
    "\n",
    "# insert data vào bảng\n",
    "mdl_db_query.create_tbl_query(query_insert_into_table_product,table_product)"
   ]
  },
  {
   "cell_type": "markdown",
   "metadata": {},
   "source": [
    "#### TẠO BẢNG DIM CUSTOMER\n"
   ]
  },
  {
   "cell_type": "code",
   "execution_count": null,
   "metadata": {},
   "outputs": [],
   "source": [
    "table_source = 'ETL_SaleDataset'\n",
    "table_customer = 'Dim_Customer'\n",
    "\n",
    "# tạo bảng product\n",
    "query_create_table_customer = f\"\"\"\n",
    "    USE {database}\n",
    "    DROP TABLE IF EXISTS {table_customer};\n",
    "    CREATE TABLE {table_customer} (\n",
    "        [CustomerId] int,\n",
    "        [Fname] NVARCHAR(255),\n",
    "        [Lname] NVARCHAR(255),\n",
    "        [Balance] MONEY,\n",
    "        [Address] NVARCHAR(255),\n",
    "        [E-mail] NVARCHAR(255),\n",
    "        [City] NVARCHAR(255),\n",
    "        [Zip] NVARCHAR(255)\n",
    "        primary key (CustomerId)\n",
    "    );\n",
    "\"\"\"\n",
    "\n",
    "#insert dữ lijeuej vào bảng dim_product\n",
    "query_insert_into_table_customer = f\"\"\"\n",
    "    INSERT INTO {table_customer} (CustomerId, Fname, Lname, Balance, Address, [E-mail], City, Zip)\n",
    "    SELECT DISTINCT\n",
    "        CustomerId,\n",
    "        Fname,\n",
    "        Lname,\n",
    "        Balance,\n",
    "        Address,\n",
    "        [E-mail],\n",
    "        City,\n",
    "        Zip\n",
    "    FROM {table_source}\n",
    "    WHERE CustomerId IS NOT NULL;\n",
    "\"\"\"\n",
    "\n",
    "# tạo bảng dim customer\n",
    "execute_query(query_create_table_customer,table_customer)\n",
    "\n",
    "# insert data vào bảng\n",
    "execute_query(query_insert_into_table_customer,table_customer)"
   ]
  },
  {
   "cell_type": "code",
   "execution_count": null,
   "metadata": {},
   "outputs": [],
   "source": [
    "# # check\n",
    "# query = \"select * from Dim_Customer\"\n",
    "# select_query(query,'Dim_Customer')\n"
   ]
  },
  {
   "cell_type": "markdown",
   "metadata": {},
   "source": [
    "#### TẠO BẢNG DIM REGION"
   ]
  },
  {
   "cell_type": "code",
   "execution_count": null,
   "metadata": {},
   "outputs": [],
   "source": [
    "\n",
    "#tạo bảng region\n",
    "query_create_table_region = f\"\"\"\n",
    "    USE {database};\n",
    "    DROP TABLE IF EXISTS {table_region};\n",
    "    CREATE TABLE {table_region} (\n",
    "        [RegionID] INT IDENTITY(1,1),\n",
    "        [Region] NVARCHAR(255),\n",
    "        primary key (RegionID)\n",
    "    );\n",
    "\"\"\"\n",
    "\n",
    "query_insert_into_table_region = f\"\"\"\n",
    "    insert into {table_region} (Region)\n",
    "    select distinct\n",
    "        Region\n",
    "    FROM {table_source}\n",
    "    where Region is not null\n",
    "\"\"\"\n",
    "\n",
    "\n",
    "#tạo bảng  dim region\n",
    "execute_query(query_create_table_region, table_region)\n",
    "\n",
    "#insert data từ bảng gốc vào\n",
    "execute_query(query_insert_into_table_region, table_region)\n",
    "\n"
   ]
  },
  {
   "cell_type": "code",
   "execution_count": null,
   "metadata": {},
   "outputs": [],
   "source": [
    "# query = f'''    \n",
    "# select distinct\n",
    "#         Region\n",
    "# FROM {table_source}\n",
    "# '''\n",
    "\n",
    "# query = \"select * from Dim_Region\"\n",
    "# select_query(query,'Dim_Region')\n"
   ]
  },
  {
   "cell_type": "markdown",
   "metadata": {},
   "source": [
    "#### TẠO BẢNG TIME"
   ]
  },
  {
   "cell_type": "code",
   "execution_count": null,
   "metadata": {},
   "outputs": [],
   "source": [
    "\n",
    "query_create_table_time = f\"\"\"\n",
    "    USE {database}\n",
    "    DROP TABLE IF EXISTS {table_time};\n",
    "    CREATE TABLE {table_time} (\n",
    "        Date_ID INT IDENTITY(1,1) PRIMARY KEY,\n",
    "        [Datetime] DATETIME,\n",
    "        [Date] DATE,\n",
    "        [Year] INT,\n",
    "        [Quarter] INT,\n",
    "        [Month] INT,\n",
    "        [Day] INT,\n",
    "        [Weekday] INT\n",
    "    );\n",
    "\"\"\"\n",
    "\n",
    "# insert dữ liệu vào bảng dim_time\n",
    "\n",
    "query_insert_into_table_time = f\"\"\"\n",
    "    INSERT INTO {table_time} ([Datetime], [Date], [Year], [Quarter], [Month], [Day], [Weekday])\n",
    "    SELECT DISTINCT\n",
    "        [Date] AS [Datetime],\n",
    "        CONVERT(DATE, [Date], 105) AS [Date],\n",
    "        YEAR([Date]) AS [Year],\n",
    "        DATEPART(QUARTER, [Date]) AS [Quarter],\n",
    "        MONTH([Date]) AS [Month],\n",
    "        DAY([Date]) AS [Day],\n",
    "        DATEPART(WEEKDAY, [Date]) AS [Weekday]\n",
    "    FROM \n",
    "        {table_source}\n",
    "    WHERE [Date] IS NOT NULL;\n",
    "\n",
    "\"\"\"\n",
    "# tạo bảng dim time\n",
    "execute_query(query_create_table_time,table_time)\n",
    "\n",
    "# insert data vào bảng\n",
    "execute_query(query_insert_into_table_time,table_time)\n"
   ]
  },
  {
   "cell_type": "code",
   "execution_count": null,
   "metadata": {},
   "outputs": [],
   "source": [
    "# query = \"select * from Dim_Time\"\n",
    "# select_query(query,'Dim_Time')"
   ]
  },
  {
   "cell_type": "markdown",
   "metadata": {},
   "source": [
    "#### TẠO BẢNG FACT SALE"
   ]
  },
  {
   "cell_type": "code",
   "execution_count": null,
   "metadata": {},
   "outputs": [],
   "source": [
    "\n",
    "query_create_fact_table = f\"\"\"\n",
    "  USE {database}\n",
    "  DROP TABLE IF EXISTS {fact_table};\n",
    "  CREATE TABLE {fact_table} (\n",
    "    [RowID] INT IDENTITY(1,1) PRIMARY KEY,\n",
    "    [OrderID] NVARCHAR(255),\n",
    "    [Units] DOUBLE PRECISION,\n",
    "    [Sales] MONEY,\n",
    "    [COGS] MONEY,\n",
    "    [Profit] MONEY,\n",
    "\n",
    "    [CustomerID] INT,\n",
    "    [ProductID] NVARCHAR(255),\n",
    "    \n",
    "    [RegionID] INT,\n",
    "    [Region] varchar(255),\n",
    "    \n",
    "    [DateID] INT,\n",
    "    [Date] DATETIME,\n",
    "  );\n",
    "\"\"\"\n",
    "\n",
    "query_insert_into_fact_table = f\"\"\"\n",
    "  INSERT INTO {fact_table} (\n",
    "    [OrderID],\n",
    "    [Units],\n",
    "    [Sales],\n",
    "    [COGS],\n",
    "    [Profit],\n",
    "\n",
    "    [CustomerID],\n",
    "    [ProductID],\n",
    "\n",
    "    [Region],\n",
    "\n",
    "    [Date]\n",
    ")\n",
    "SELECT distinct\n",
    "    [OrderID],\n",
    "    [Units],\n",
    "    [Sales],\n",
    "    [COGS],\n",
    "    [Profit],\n",
    "\n",
    "    [CustomerID],\n",
    "    [ProductID],\n",
    "\n",
    "    [Region],\n",
    "\n",
    "    [Date]\n",
    "FROM {table_source}\n",
    "WHERE [OrderID] IS NOT NULL\n",
    "\"\"\"\n",
    "\n",
    "# tạo bảng dim product\n",
    "execute_query(query_create_fact_table,fact_table)\n",
    "\n",
    "# insert data vào bảng\n",
    "execute_query(query_insert_into_fact_table,fact_table)\n"
   ]
  },
  {
   "cell_type": "markdown",
   "metadata": {},
   "source": [
    "tạo id cho bảng fact"
   ]
  },
  {
   "cell_type": "code",
   "execution_count": null,
   "metadata": {},
   "outputs": [],
   "source": [
    "\n",
    "lookup_value_region = f\"\"\"\n",
    "    UPDATE {fact_table}\n",
    "    SET {fact_table}.RegionID = {table_region}.RegionID\n",
    "    FROM {fact_table}\n",
    "    inner JOIN {table_region} ON {fact_table}.[Region] = {table_region}.[Region]\n",
    "\n",
    "\n",
    "    ALTER TABLE [fact_table]\n",
    "    DROP COLUMN [Region];\n",
    "\n",
    "\"\"\"\n",
    "\n",
    "\n",
    "lookup_value_date = f\"\"\"\n",
    "    UPDATE {fact_table}\n",
    "    SET {fact_table}.DateID = {table_time}.[Date_ID]\n",
    "    FROM {fact_table}\n",
    "    inner JOIN {table_time} ON {fact_table}.[Date] = {table_time}.[Datetime]\n",
    "\n",
    "    ALTER TABLE [fact_table]\n",
    "    DROP COLUMN [Date]\n",
    "\n",
    "\"\"\"\n",
    "execute_query(lookup_value_region, fact_table)\n",
    "execute_query(lookup_value_date, fact_table)"
   ]
  },
  {
   "cell_type": "markdown",
   "metadata": {},
   "source": [
    "#### data modeling"
   ]
  },
  {
   "cell_type": "code",
   "execution_count": null,
   "metadata": {},
   "outputs": [],
   "source": [
    "# Câu truy vấn để xóa ràng buộc khóa ngoại nếu tồn tại\n",
    "drop_fk_constraints_query = f\"\"\"\n",
    "IF EXISTS (SELECT * FROM INFORMATION_SCHEMA.TABLE_CONSTRAINTS\n",
    "           WHERE CONSTRAINT_TYPE = 'FOREIGN KEY'\n",
    "           AND TABLE_NAME = '{fact_table}')\n",
    "BEGIN\n",
    "    ALTER TABLE {fact_table}\n",
    "    DROP CONSTRAINT FK_fact_date;\n",
    "    \n",
    "    ALTER TABLE {fact_table}\n",
    "    DROP CONSTRAINT FK_fact_product;\n",
    "    \n",
    "    ALTER TABLE {fact_table}\n",
    "    DROP CONSTRAINT FK_fact_region;\n",
    "    \n",
    "    ALTER TABLE {fact_table}\n",
    "    DROP CONSTRAINT FK_fact_customer;\n",
    "END\n",
    "\"\"\"\n",
    "\n",
    "\n",
    "\n",
    "# Câu truy vấn để thêm ràng buộc khóa ngoại mới\n",
    "add_fk_constraints_query = f\"\"\"\n",
    "ALTER TABLE {fact_table}\n",
    "ADD CONSTRAINT FK_fact_date\n",
    "FOREIGN KEY(DateID) REFERENCES {table_time}(Date_ID);\n",
    "\n",
    "ALTER TABLE {fact_table}\n",
    "ADD CONSTRAINT FK_fact_product\n",
    "FOREIGN KEY(ProductID) REFERENCES {table_product}(ProductID);\n",
    "\n",
    "ALTER TABLE {fact_table}\n",
    "ADD CONSTRAINT FK_fact_region\n",
    "FOREIGN KEY(RegionID) REFERENCES {table_region}(RegionID);\n",
    "\n",
    "ALTER TABLE {fact_table}\n",
    "ADD CONSTRAINT FK_fact_customer\n",
    "FOREIGN KEY(CustomerID) REFERENCES {table_customer}(CustomerId);\n",
    "\"\"\"\n",
    "\n",
    "\n",
    "\n",
    "\n",
    "# Kết nối đến cơ sở dữ liệu\n",
    "conx = pyodbc.connect(conn_str)\n",
    "\n",
    "# Thực hiện truy vấn và tạo bảng\n",
    "cursor = conx.cursor()\n",
    "\n",
    "cursor.execute(drop_fk_constraints_query)\n",
    "cursor.execute(add_fk_constraints_query)\n",
    "\n",
    "\n",
    "\n",
    "# Xác nhận thay đổi\n",
    "conx.commit()\n",
    "# Đóng kết nối pyodbc\n",
    "conx.close()\n"
   ]
  },
  {
   "cell_type": "markdown",
   "metadata": {},
   "source": [
    "chạy thử\n",
    "inner join tất cả cac bang"
   ]
  },
  {
   "cell_type": "code",
   "execution_count": null,
   "metadata": {},
   "outputs": [],
   "source": [
    "query = f\"\"\"\n",
    "    select * from fact_table \n",
    "    inner join Dim_Product ON fact_table.[ProductID] = Dim_Product.[ProductID]\n",
    "    inner join Dim_Customer on fact_table.[CustomerID] = Dim_Customer.[CustomerId]\n",
    "    inner join Dim_Region on fact_table.[RegionID] = Dim_Region.[RegionID]\n",
    "    inner join Dim_Time on fact_table.[DateID] = Dim_Time.[Date_ID]\n",
    "\"\"\"\n",
    "df_olap = mdl_db_query.print_query(query)\n",
    "print(df_olap.head())"
   ]
  },
  {
   "cell_type": "code",
   "execution_count": null,
   "metadata": {},
   "outputs": [],
   "source": [
    "import pyodbc\n",
    "def get_foreign_key_relationships(conn_str):\n",
    "    conn_str, engine = mdl_db_connection.connect_db()\n",
    "    conx = pyodbc.connect(conn_str)\n",
    "    cursor = conx.cursor()\n",
    "\n",
    "    # Truy vấn để lấy thông tin về ràng buộc khóa ngoại\n",
    "    query = \"\"\"\n",
    "    SELECT \n",
    "        OBJECT_NAME(parent_object_id) AS parent_table,\n",
    "        col.name AS parent_column,\n",
    "        OBJECT_NAME(referenced_object_id) AS referenced_table,\n",
    "        col_ref.name AS referenced_column\n",
    "    FROM sys.foreign_key_columns fkc\n",
    "    INNER JOIN sys.columns col\n",
    "        ON fkc.parent_object_id = col.object_id\n",
    "        AND fkc.parent_column_id = col.column_id\n",
    "    INNER JOIN sys.columns col_ref\n",
    "        ON fkc.referenced_object_id = col_ref.object_id\n",
    "        AND fkc.referenced_column_id = col_ref.column_id\n",
    "    WHERE OBJECT_NAME(referenced_object_id) IS NOT NULL\n",
    "    \"\"\"\n",
    "    cursor.execute(query)\n",
    "\n",
    "    # In ra thông tin mối quan hệ giữa các bảng\n",
    "    for row in cursor.fetchall():\n",
    "        parent_table, parent_column, referenced_table, referenced_column = row\n",
    "        print(f\"Table: {parent_table} ({parent_column}) -> Table: {referenced_table} ({referenced_column})\")\n",
    "    conx.close()\n",
    "\n",
    "\n",
    "# Sử dụng hàm get_foreign_key_relationships\n",
    "database_name = mdl_db_connection.database\n",
    "get_foreign_key_relationships(conn_str)\n"
   ]
  },
  {
   "cell_type": "code",
   "execution_count": null,
   "metadata": {},
   "outputs": [],
   "source": [
    "mdl_db_query.get_foreign_key_relationships()"
   ]
  }
 ],
 "metadata": {
  "kernelspec": {
   "display_name": "Python 3",
   "language": "python",
   "name": "python3"
  },
  "language_info": {
   "codemirror_mode": {
    "name": "ipython",
    "version": 3
   },
   "file_extension": ".py",
   "mimetype": "text/x-python",
   "name": "python",
   "nbconvert_exporter": "python",
   "pygments_lexer": "ipython3",
   "version": "3.10.9"
  },
  "orig_nbformat": 4
 },
 "nbformat": 4,
 "nbformat_minor": 2
}
