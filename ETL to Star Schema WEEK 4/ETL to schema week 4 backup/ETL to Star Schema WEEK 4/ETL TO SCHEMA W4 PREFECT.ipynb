{
 "cells": [
  {
   "cell_type": "markdown",
   "metadata": {},
   "source": [
    "Khởi tạo thư viện"
   ]
  },
  {
   "cell_type": "code",
   "execution_count": 13,
   "metadata": {},
   "outputs": [],
   "source": [
    "import pandas as pd\n",
    "import pyodbc\n",
    "from prefect import flow, task, get_run_logger\n",
    "from prefect.tasks import task_input_hash\n",
    "from datetime import timedelta\n",
    "\n",
    "import sys\n",
    "sys.path.append(r\"G:/My Drive/HỌC TẬP DUE/NNT_năm 4 kì 1/DW & DM/config\")\n",
    "import mdl_db_connection\n",
    "import mdl_db_query"
   ]
  },
  {
   "cell_type": "markdown",
   "metadata": {},
   "source": [
    "## Khởi tạo một số thông tin chung"
   ]
  },
  {
   "cell_type": "code",
   "execution_count": 14,
   "metadata": {},
   "outputs": [],
   "source": [
    "conn_str, engine = mdl_db_connection.connect_db()\n",
    "# Định nghĩa các tên bảng và cột\n",
    "table_source = 'ETL_SaleDataset'\n",
    "fact_table = \"fact_table\"\n",
    "table_time = \"Dim_Time\"\n",
    "table_product = \"Dim_Product\"\n",
    "table_region = \"Dim_Region\"\n",
    "table_customer = \"Dim_Customer\"\n"
   ]
  },
  {
   "cell_type": "markdown",
   "metadata": {},
   "source": [
    "### Các câu lệnh truy vấn"
   ]
  },
  {
   "cell_type": "markdown",
   "metadata": {},
   "source": [
    "#### product"
   ]
  },
  {
   "cell_type": "code",
   "execution_count": 15,
   "metadata": {},
   "outputs": [],
   "source": [
    "# tạo bảng product\n",
    "query_create_table_product = f\"\"\"\n",
    "    USE {mdl_db_connection.database}\n",
    "    DROP TABLE IF EXISTS {table_product};\n",
    "    CREATE TABLE {table_product} (\n",
    "        ProductID nvarchar(255),\n",
    "        Product nvarchar(255),\n",
    "        Description nvarchar(255),\n",
    "        Supplier nvarchar(255),\n",
    "        [Suggested Price] float,\n",
    "        Price float,\n",
    "        primary key (ProductID)\n",
    "    );\n",
    "\"\"\"\n",
    "\n",
    "#insert dữ lijeuej vào bảng dim_product\n",
    "query_insert_into_table_product = f\"\"\"\n",
    "    INSERT INTO {table_product} (ProductID, Product, Description, Supplier, [Suggested Price], Price)\n",
    "    SELECT DISTINCT\n",
    "        ProductID,\n",
    "        Product,\n",
    "        Description,\n",
    "        Supplier,\n",
    "        [Suggested Price],\n",
    "        Price\n",
    "    FROM {table_source};\n",
    "\"\"\""
   ]
  },
  {
   "cell_type": "markdown",
   "metadata": {},
   "source": [
    "#### customer"
   ]
  },
  {
   "cell_type": "code",
   "execution_count": 16,
   "metadata": {},
   "outputs": [],
   "source": [
    "# tạo bảng product\n",
    "query_create_table_customer = f\"\"\"\n",
    "    DROP TABLE IF EXISTS {table_customer};\n",
    "    CREATE TABLE {table_customer} (\n",
    "        [CustomerId] int,\n",
    "        [Fname] NVARCHAR(255),\n",
    "        [Lname] NVARCHAR(255),\n",
    "        [Balance] MONEY,\n",
    "        [Address] NVARCHAR(255),\n",
    "        [E-mail] NVARCHAR(255),\n",
    "        [City] NVARCHAR(255),\n",
    "        [Zip] NVARCHAR(255)\n",
    "        primary key (CustomerId)\n",
    "    );\n",
    "\"\"\"\n",
    "\n",
    "#insert dữ lijeuej vào bảng dim_product\n",
    "query_insert_into_table_customer = f\"\"\"\n",
    "    INSERT INTO {table_customer} (CustomerId, Fname, Lname, Balance, Address, [E-mail], City, Zip)\n",
    "    SELECT DISTINCT\n",
    "        CustomerId,\n",
    "        Fname,\n",
    "        Lname,\n",
    "        Balance,\n",
    "        Address,\n",
    "        [E-mail],\n",
    "        City,\n",
    "        Zip\n",
    "    FROM {table_source}\n",
    "    WHERE CustomerId IS NOT NULL;\n",
    "\"\"\""
   ]
  },
  {
   "cell_type": "markdown",
   "metadata": {},
   "source": [
    "#### region"
   ]
  },
  {
   "cell_type": "code",
   "execution_count": 17,
   "metadata": {},
   "outputs": [],
   "source": [
    "#tạo bảng region\n",
    "query_create_table_region = f\"\"\"\n",
    "    DROP TABLE IF EXISTS {table_region};\n",
    "    CREATE TABLE {table_region} (\n",
    "        [RegionID] INT IDENTITY(1,1),\n",
    "        [Region] NVARCHAR(255),\n",
    "        primary key (RegionID)\n",
    "    );\n",
    "\"\"\"\n",
    "\n",
    "query_insert_into_table_region = f\"\"\"\n",
    "    insert into {table_region} (Region)\n",
    "    select distinct\n",
    "        Region\n",
    "    FROM {table_source}\n",
    "    where Region is not null\n",
    "\"\"\"\n"
   ]
  },
  {
   "cell_type": "markdown",
   "metadata": {},
   "source": [
    "#### fact table"
   ]
  },
  {
   "cell_type": "code",
   "execution_count": 18,
   "metadata": {},
   "outputs": [],
   "source": [
    "query_create_fact_table = f\"\"\"\n",
    "  DROP TABLE IF EXISTS {fact_table};\n",
    "  CREATE TABLE {fact_table} (\n",
    "    [RowID] INT IDENTITY(1,1) PRIMARY KEY,\n",
    "    [OrderID] NVARCHAR(255),\n",
    "    [Units] DOUBLE PRECISION,\n",
    "    [Sales] MONEY,\n",
    "    [COGS] MONEY,\n",
    "    [Profit] MONEY,\n",
    "\n",
    "    [CustomerID] INT,\n",
    "    [ProductID] NVARCHAR(255),\n",
    "    \n",
    "    [RegionID] INT,\n",
    "    [Region] varchar(255),\n",
    "    \n",
    "    [DateID] INT,\n",
    "    [Date] DATETIME,\n",
    "  );\n",
    "\"\"\"\n",
    "\n",
    "query_insert_into_fact_table = f\"\"\"\n",
    "  INSERT INTO {fact_table} (\n",
    "    [OrderID],\n",
    "    [Units],\n",
    "    [Sales],\n",
    "    [COGS],\n",
    "    [Profit],\n",
    "\n",
    "    [CustomerID],\n",
    "    [ProductID],\n",
    "\n",
    "    [Region],\n",
    "\n",
    "    [Date]\n",
    ")\n",
    "SELECT distinct\n",
    "    [OrderID],\n",
    "    [Units],\n",
    "    [Sales],\n",
    "    [COGS],\n",
    "    [Profit],\n",
    "\n",
    "    [CustomerID],\n",
    "    [ProductID],\n",
    "\n",
    "    [Region],\n",
    "\n",
    "    [Date]\n",
    "FROM {table_source}\n",
    "WHERE [OrderID] IS NOT NULL\n",
    "\"\"\"\n",
    "\n",
    "lookup_value_region = f\"\"\"\n",
    "    UPDATE {fact_table}\n",
    "    SET {fact_table}.RegionID = {table_region}.RegionID\n",
    "    FROM {fact_table}\n",
    "    inner JOIN {table_region} ON {fact_table}.[Region] = {table_region}.[Region]\n",
    "    ALTER TABLE [fact_table]\n",
    "    DROP COLUMN [Region];\n",
    "\"\"\"\n",
    "\n",
    "\n",
    "lookup_value_date = f\"\"\"\n",
    "    UPDATE {fact_table}\n",
    "    SET {fact_table}.DateID = {table_time}.[Date_ID]\n",
    "    FROM {fact_table}\n",
    "    inner JOIN {table_time} ON {fact_table}.[Date] = {table_time}.[Datetime]\n",
    "\n",
    "    ALTER TABLE [fact_table]\n",
    "    DROP COLUMN [Date]\n",
    "\n",
    "\"\"\""
   ]
  },
  {
   "cell_type": "markdown",
   "metadata": {},
   "source": [
    "#### time"
   ]
  },
  {
   "cell_type": "code",
   "execution_count": 19,
   "metadata": {},
   "outputs": [],
   "source": [
    "\n",
    "query_create_table_time = f\"\"\"\n",
    "    DROP TABLE IF EXISTS {table_time};\n",
    "    CREATE TABLE {table_time} (\n",
    "        Date_ID INT IDENTITY(1,1) PRIMARY KEY,\n",
    "        [Datetime] DATETIME,\n",
    "        [Date] DATE,\n",
    "        [Year] INT,\n",
    "        [Quarter] INT,\n",
    "        [Month] INT,\n",
    "        [Day] INT,\n",
    "        [Weekday] INT\n",
    "    );\n",
    "\"\"\"\n",
    "\n",
    "# insert dữ liệu vào bảng dim_time\n",
    "\n",
    "query_insert_into_table_time = f\"\"\"\n",
    "    INSERT INTO {table_time} ([Datetime], [Date], [Year], [Quarter], [Month], [Day], [Weekday])\n",
    "    SELECT DISTINCT\n",
    "        [Date] AS [Datetime],\n",
    "        CONVERT(DATE, [Date], 105) AS [Date],\n",
    "        YEAR([Date]) AS [Year],\n",
    "        DATEPART(QUARTER, [Date]) AS [Quarter],\n",
    "        MONTH([Date]) AS [Month],\n",
    "        DAY([Date]) AS [Day],\n",
    "        DATEPART(WEEKDAY, [Date]) AS [Weekday]\n",
    "    FROM \n",
    "        {table_source}\n",
    "    WHERE [Date] IS NOT NULL;\n",
    "\n",
    "\"\"\"\n",
    "\n",
    "\n"
   ]
  },
  {
   "cell_type": "markdown",
   "metadata": {},
   "source": [
    "#### schema query"
   ]
  },
  {
   "cell_type": "code",
   "execution_count": 20,
   "metadata": {},
   "outputs": [],
   "source": [
    "# Câu truy vấn để xóa ràng buộc khóa ngoại nếu tồn tại\n",
    "drop_fk_constraints_query = f\"\"\"\n",
    "IF EXISTS (SELECT * FROM INFORMATION_SCHEMA.TABLE_CONSTRAINTS\n",
    "           WHERE CONSTRAINT_TYPE = 'FOREIGN KEY'\n",
    "           AND TABLE_NAME = '{fact_table}')\n",
    "BEGIN\n",
    "    ALTER TABLE {fact_table}\n",
    "    DROP CONSTRAINT FK_fact_date;\n",
    "    \n",
    "    ALTER TABLE {fact_table}\n",
    "    DROP CONSTRAINT FK_fact_product;\n",
    "    \n",
    "    ALTER TABLE {fact_table}\n",
    "    DROP CONSTRAINT FK_fact_region;\n",
    "    \n",
    "    ALTER TABLE {fact_table}\n",
    "    DROP CONSTRAINT FK_fact_customer;\n",
    "END\n",
    "\"\"\"\n",
    "\n",
    "\n",
    "\n",
    "# Câu truy vấn để thêm ràng buộc khóa ngoại mới\n",
    "add_fk_constraints_query = f\"\"\"\n",
    "ALTER TABLE {fact_table}\n",
    "ADD CONSTRAINT FK_fact_date\n",
    "FOREIGN KEY(DateID) REFERENCES {table_time}(Date_ID);\n",
    "\n",
    "ALTER TABLE {fact_table}\n",
    "ADD CONSTRAINT FK_fact_product\n",
    "FOREIGN KEY(ProductID) REFERENCES {table_product}(ProductID);\n",
    "\n",
    "ALTER TABLE {fact_table}\n",
    "ADD CONSTRAINT FK_fact_region\n",
    "FOREIGN KEY(RegionID) REFERENCES {table_region}(RegionID);\n",
    "\n",
    "ALTER TABLE {fact_table}\n",
    "ADD CONSTRAINT FK_fact_customer\n",
    "FOREIGN KEY(CustomerID) REFERENCES {table_customer}(CustomerId);\n",
    "\"\"\"\n",
    "\n"
   ]
  },
  {
   "cell_type": "markdown",
   "metadata": {},
   "source": [
    "### PROCESS DATA"
   ]
  },
  {
   "cell_type": "markdown",
   "metadata": {},
   "source": [
    "#### drop fk nếu tồn tại"
   ]
  },
  {
   "cell_type": "code",
   "execution_count": 21,
   "metadata": {},
   "outputs": [
    {
     "name": "stderr",
     "output_type": "stream",
     "text": [
      "c:\\Users\\admin\\AppData\\Local\\Programs\\Python\\Python310\\lib\\site-packages\\prefect\\tasks.py:326: UserWarning: A task named 'drop fk if exist' and defined at 'C:\\Users\\admin\\AppData\\Local\\Temp\\ipykernel_21024\\44060375.py:1' conflicts with another task. Consider specifying a unique `name` parameter in the task definition:\n",
      "\n",
      " `@task(name='my_unique_name', ...)`\n",
      "  warnings.warn(\n"
     ]
    }
   ],
   "source": [
    "@task(\n",
    "        name=\"drop fk if exist\"\n",
    "      , description = \"Phải xóa các fk thì mới tạo bảng mới/insert được (cho trường hợp chạy lại code)\"\n",
    "      , task_run_name = \"drop fk if exist\"\n",
    "      , cache_key_fn = task_input_hash\n",
    "      , cache_expiration=timedelta(days=1)\n",
    "      )\n",
    "def drop_fk_constraints():\n",
    "    logger = get_run_logger()\n",
    "    logger.info(\"Xóa các fk nếu nó đã tồn tại!\")\n",
    "    # Kết nối đến cơ sở dữ liệu\n",
    "    conx = pyodbc.connect(conn_str)\n",
    "    # Thực hiện truy vấn và tạo bảng\n",
    "    cursor = conx.cursor()\n",
    "    cursor.execute(drop_fk_constraints_query)\n",
    "    # Xác nhận thay đổi\n",
    "    conx.commit()\n",
    "    # Đóng kết nối pyodbc\n",
    "    conx.close()"
   ]
  },
  {
   "cell_type": "markdown",
   "metadata": {},
   "source": [
    "#### create dim table"
   ]
  },
  {
   "cell_type": "code",
   "execution_count": 22,
   "metadata": {},
   "outputs": [
    {
     "name": "stderr",
     "output_type": "stream",
     "text": [
      "c:\\Users\\admin\\AppData\\Local\\Programs\\Python\\Python310\\lib\\site-packages\\prefect\\tasks.py:326: UserWarning: A task named 'create dim table, fact table' and defined at 'C:\\Users\\admin\\AppData\\Local\\Temp\\ipykernel_21024\\1677616137.py:1' conflicts with another task. Consider specifying a unique `name` parameter in the task definition:\n",
      "\n",
      " `@task(name='my_unique_name', ...)`\n",
      "  warnings.warn(\n"
     ]
    }
   ],
   "source": [
    "@task(\n",
    "        name=\"create dim table, fact table\"\n",
    "      , description = \"Tạo các bảng dim table từ 1 table gốc trong db (week 2)\"\n",
    "      , task_run_name = \"tạo tất cả các bảng dim, fact table\"\n",
    "      # , cache_key_fn = task_input_hash\n",
    "      # , cache_expiration=timedelta(days=1)\n",
    "      )\n",
    "def create_dim_table():\n",
    "    logger = get_run_logger()\n",
    "\n",
    "    logger.info(\"Tạo bảng dim prodcut\")\n",
    "    # tạo bảng dim product\n",
    "    # execute_query(query_create_table_product,table_product)\n",
    "    mdl_db_query.create_tbl_query(query_create_table_product,table_product)\n",
    "    # insert data vào bảng\n",
    "    mdl_db_query.create_tbl_query(query_insert_into_table_product,table_product)\n",
    "\n",
    "\n",
    "    logger.info(\"Tạo bảng dim region\")\n",
    "    #tạo bảng  dim region\n",
    "    mdl_db_query.create_tbl_query(query_create_table_region, table_region)\n",
    "    #insert data từ bảng gốc vào\n",
    "    mdl_db_query.create_tbl_query(query_insert_into_table_region, table_region)\n",
    "    \n",
    "    \n",
    "    \n",
    "    logger.info(\"Tạo bảng dim time\")\n",
    "\n",
    "    # tạo bảng dim time\n",
    "    mdl_db_query.create_tbl_query(query_create_table_time,table_time)\n",
    "    # insert data vào bảng\n",
    "    mdl_db_query.create_tbl_query(query_insert_into_table_time,table_time)\n",
    "\n",
    "\n",
    "\n",
    "    logger.info(\"Tạo bảng dim customer\")\n",
    "    # tạo bảng dim customer\n",
    "    mdl_db_query.create_tbl_query(query_create_table_customer,table_customer)\n",
    "    # insert data vào bảng\n",
    "    mdl_db_query.create_tbl_query(query_insert_into_table_customer,table_customer)\n",
    "\n",
    "    logger.info(\"Tạo bảng fact_table\")\n",
    "    # tạo bảng dim product\n",
    "    mdl_db_query.create_tbl_query(query_create_fact_table,fact_table)\n",
    "    logger.info(\"Insert data vào bảng fact_table\")\n",
    "    # insert data vào bảng\n",
    "    mdl_db_query.create_tbl_query(query_insert_into_fact_table,fact_table)\n",
    "\n",
    "    #tạo 2 fk cho fact_table\n",
    "    logger.info(\"tạo khóa ngoại REGION cho fact_table\")\n",
    "    mdl_db_query.create_tbl_query(lookup_value_region, fact_table)\n",
    "\n",
    "    logger.info(\"tạo khóa ngoại DATE cho fact_table\")\n",
    "    mdl_db_query.create_tbl_query(lookup_value_date, fact_table) \n"
   ]
  },
  {
   "cell_type": "markdown",
   "metadata": {},
   "source": [
    "#### data modeling"
   ]
  },
  {
   "cell_type": "code",
   "execution_count": 23,
   "metadata": {},
   "outputs": [
    {
     "name": "stderr",
     "output_type": "stream",
     "text": [
      "c:\\Users\\admin\\AppData\\Local\\Programs\\Python\\Python310\\lib\\site-packages\\prefect\\tasks.py:326: UserWarning: A task named 'data modeling' and defined at 'C:\\Users\\admin\\AppData\\Local\\Temp\\ipykernel_21024\\3483589406.py:1' conflicts with another task. Consider specifying a unique `name` parameter in the task definition:\n",
      "\n",
      " `@task(name='my_unique_name', ...)`\n",
      "  warnings.warn(\n"
     ]
    }
   ],
   "source": [
    "@task(\n",
    "        name = \"data modeling\"\n",
    "      , description = \"Nối các bảng lại với nhau (tạo schema trong db)\"\n",
    "      , task_run_name = \"create schema\"\n",
    "      # , cache_key_fn = task_input_hash\n",
    "      # , cache_expiration=timedelta(days=1)\n",
    "        )\n",
    "def data_modeling():\n",
    "    \n",
    "    logger = get_run_logger()\n",
    "\n",
    "    logger.info(\"TẠO FK - SCHEMA\")\n",
    "    # Kết nối đến cơ sở dữ liệu\n",
    "    conx = pyodbc.connect(conn_str)\n",
    "\n",
    "    # Thực hiện truy vấn và tạo bảng\n",
    "    cursor = conx.cursor()\n",
    "\n",
    "    cursor.execute(drop_fk_constraints_query)\n",
    "    cursor.execute(add_fk_constraints_query)\n",
    "\n",
    "    # Xác nhận thay đổi\n",
    "    conx.commit()\n",
    "    # Đóng kết nối pyodbc\n",
    "    conx.close()\n",
    "    \n",
    "    logger.info(\"Hiển thị mối quan hệ của các bảng sau khi tạo FK\")\n",
    "\n",
    "    mdl_db_query.get_foreign_key_relationships()\n"
   ]
  },
  {
   "cell_type": "markdown",
   "metadata": {},
   "source": [
    "### BUILD FLOW"
   ]
  },
  {
   "cell_type": "code",
   "execution_count": 24,
   "metadata": {},
   "outputs": [
    {
     "name": "stderr",
     "output_type": "stream",
     "text": [
      "c:\\Users\\admin\\AppData\\Local\\Programs\\Python\\Python310\\lib\\site-packages\\prefect\\flows.py:273: UserWarning: A flow named 'FLOW ETL TO SCHEMA - WEEK 4 - USING PREFECT PYTHON (DATA WEEK 2)' and defined at 'C:\\Users\\admin\\AppData\\Local\\Temp\\ipykernel_21024\\466988996.py:1' conflicts with another flow. Consider specifying a unique `name` parameter in the flow definition:\n",
      "\n",
      " `@flow(name='my_unique_name', ...)`\n",
      "  warnings.warn(\n"
     ]
    },
    {
     "data": {
      "text/html": [
       "<pre style=\"white-space:pre;overflow-x:auto;line-height:normal;font-family:Menlo,'DejaVu Sans Mono',consolas,'Courier New',monospace\">00:08:50.311 | <span style=\"color: #008080; text-decoration-color: #008080\">INFO</span>    | prefect.engine - Created flow run<span style=\"color: #800080; text-decoration-color: #800080\"> 'courageous-caribou'</span> for flow<span style=\"color: #800080; text-decoration-color: #800080; font-weight: bold\"> 'FLOW ETL TO SCHEMA - WEEK 4 - USING PREFECT PYTHON (DATA WEEK 2)'</span>\n",
       "</pre>\n"
      ],
      "text/plain": [
       "00:08:50.311 | \u001b[36mINFO\u001b[0m    | prefect.engine - Created flow run\u001b[35m 'courageous-caribou'\u001b[0m for flow\u001b[1;35m 'FLOW ETL TO SCHEMA - WEEK 4 - USING PREFECT PYTHON (DATA WEEK 2)'\u001b[0m\n"
      ]
     },
     "metadata": {},
     "output_type": "display_data"
    },
    {
     "data": {
      "text/html": [
       "<pre style=\"white-space:pre;overflow-x:auto;line-height:normal;font-family:Menlo,'DejaVu Sans Mono',consolas,'Courier New',monospace\">00:08:50.635 | <span style=\"color: #008080; text-decoration-color: #008080\">INFO</span>    | Flow run<span style=\"color: #800080; text-decoration-color: #800080\"> 'ETL to schema week 4'</span> - Created task run 'drop fk if exist-0' for task 'drop fk if exist'\n",
       "</pre>\n"
      ],
      "text/plain": [
       "00:08:50.635 | \u001b[36mINFO\u001b[0m    | Flow run\u001b[35m 'ETL to schema week 4'\u001b[0m - Created task run 'drop fk if exist-0' for task 'drop fk if exist'\n"
      ]
     },
     "metadata": {},
     "output_type": "display_data"
    },
    {
     "data": {
      "text/html": [
       "<pre style=\"white-space:pre;overflow-x:auto;line-height:normal;font-family:Menlo,'DejaVu Sans Mono',consolas,'Courier New',monospace\">00:08:50.640 | <span style=\"color: #008080; text-decoration-color: #008080\">INFO</span>    | Flow run<span style=\"color: #800080; text-decoration-color: #800080\"> 'ETL to schema week 4'</span> - Executing 'drop fk if exist-0' immediately...\n",
       "</pre>\n"
      ],
      "text/plain": [
       "00:08:50.640 | \u001b[36mINFO\u001b[0m    | Flow run\u001b[35m 'ETL to schema week 4'\u001b[0m - Executing 'drop fk if exist-0' immediately...\n"
      ]
     },
     "metadata": {},
     "output_type": "display_data"
    },
    {
     "data": {
      "text/html": [
       "<pre style=\"white-space:pre;overflow-x:auto;line-height:normal;font-family:Menlo,'DejaVu Sans Mono',consolas,'Courier New',monospace\">00:08:50.813 | <span style=\"color: #008080; text-decoration-color: #008080\">INFO</span>    | Task run 'drop fk if exist' - Xóa các fk nếu nó đã tồn tại!\n",
       "</pre>\n"
      ],
      "text/plain": [
       "00:08:50.813 | \u001b[36mINFO\u001b[0m    | Task run 'drop fk if exist' - Xóa các fk nếu nó đã tồn tại!\n"
      ]
     },
     "metadata": {},
     "output_type": "display_data"
    },
    {
     "data": {
      "text/html": [
       "<pre style=\"white-space:pre;overflow-x:auto;line-height:normal;font-family:Menlo,'DejaVu Sans Mono',consolas,'Courier New',monospace\">00:08:50.952 | <span style=\"color: #008080; text-decoration-color: #008080\">INFO</span>    | Task run 'drop fk if exist' - Finished in state <span style=\"color: #008000; text-decoration-color: #008000\">Completed</span>()\n",
       "</pre>\n"
      ],
      "text/plain": [
       "00:08:50.952 | \u001b[36mINFO\u001b[0m    | Task run 'drop fk if exist' - Finished in state \u001b[32mCompleted\u001b[0m()\n"
      ]
     },
     "metadata": {},
     "output_type": "display_data"
    },
    {
     "data": {
      "text/html": [
       "<pre style=\"white-space:pre;overflow-x:auto;line-height:normal;font-family:Menlo,'DejaVu Sans Mono',consolas,'Courier New',monospace\">00:08:51.004 | <span style=\"color: #008080; text-decoration-color: #008080\">INFO</span>    | Flow run<span style=\"color: #800080; text-decoration-color: #800080\"> 'ETL to schema week 4'</span> - Created task run 'create dim table, fact table-0' for task 'create dim table, fact table'\n",
       "</pre>\n"
      ],
      "text/plain": [
       "00:08:51.004 | \u001b[36mINFO\u001b[0m    | Flow run\u001b[35m 'ETL to schema week 4'\u001b[0m - Created task run 'create dim table, fact table-0' for task 'create dim table, fact table'\n"
      ]
     },
     "metadata": {},
     "output_type": "display_data"
    },
    {
     "data": {
      "text/html": [
       "<pre style=\"white-space:pre;overflow-x:auto;line-height:normal;font-family:Menlo,'DejaVu Sans Mono',consolas,'Courier New',monospace\">00:08:51.006 | <span style=\"color: #008080; text-decoration-color: #008080\">INFO</span>    | Flow run<span style=\"color: #800080; text-decoration-color: #800080\"> 'ETL to schema week 4'</span> - Executing 'create dim table, fact table-0' immediately...\n",
       "</pre>\n"
      ],
      "text/plain": [
       "00:08:51.006 | \u001b[36mINFO\u001b[0m    | Flow run\u001b[35m 'ETL to schema week 4'\u001b[0m - Executing 'create dim table, fact table-0' immediately...\n"
      ]
     },
     "metadata": {},
     "output_type": "display_data"
    },
    {
     "data": {
      "text/html": [
       "<pre style=\"white-space:pre;overflow-x:auto;line-height:normal;font-family:Menlo,'DejaVu Sans Mono',consolas,'Courier New',monospace\">00:08:51.142 | <span style=\"color: #008080; text-decoration-color: #008080\">INFO</span>    | Task run 'tạo tất cả các bảng dim, fact table' - Tạo bảng dim prodcut\n",
       "</pre>\n"
      ],
      "text/plain": [
       "00:08:51.142 | \u001b[36mINFO\u001b[0m    | Task run 'tạo tất cả các bảng dim, fact table' - Tạo bảng dim prodcut\n"
      ]
     },
     "metadata": {},
     "output_type": "display_data"
    },
    {
     "data": {
      "text/html": [
       "<pre style=\"white-space:pre;overflow-x:auto;line-height:normal;font-family:Menlo,'DejaVu Sans Mono',consolas,'Courier New',monospace\">00:08:51.151 | <span style=\"color: #008080; text-decoration-color: #008080\">INFO</span>    | Task run 'tạo tất cả các bảng dim, fact table' - -1\n",
       "</pre>\n"
      ],
      "text/plain": [
       "00:08:51.151 | \u001b[36mINFO\u001b[0m    | Task run 'tạo tất cả các bảng dim, fact table' - -1\n"
      ]
     },
     "metadata": {},
     "output_type": "display_data"
    },
    {
     "data": {
      "text/html": [
       "<pre style=\"white-space:pre;overflow-x:auto;line-height:normal;font-family:Menlo,'DejaVu Sans Mono',consolas,'Courier New',monospace\">00:08:51.154 | <span style=\"color: #008080; text-decoration-color: #008080\">INFO</span>    | Task run 'tạo tất cả các bảng dim, fact table' - Đã tạo bảng thành công\n",
       "</pre>\n"
      ],
      "text/plain": [
       "00:08:51.154 | \u001b[36mINFO\u001b[0m    | Task run 'tạo tất cả các bảng dim, fact table' - Đã tạo bảng thành công\n"
      ]
     },
     "metadata": {},
     "output_type": "display_data"
    },
    {
     "data": {
      "text/html": [
       "<pre style=\"white-space:pre;overflow-x:auto;line-height:normal;font-family:Menlo,'DejaVu Sans Mono',consolas,'Courier New',monospace\">00:08:51.155 | <span style=\"color: #008080; text-decoration-color: #008080\">INFO</span>    | Task run 'tạo tất cả các bảng dim, fact table' - ==============================\n",
       "</pre>\n"
      ],
      "text/plain": [
       "00:08:51.155 | \u001b[36mINFO\u001b[0m    | Task run 'tạo tất cả các bảng dim, fact table' - ==============================\n"
      ]
     },
     "metadata": {},
     "output_type": "display_data"
    },
    {
     "data": {
      "text/html": [
       "<pre style=\"white-space:pre;overflow-x:auto;line-height:normal;font-family:Menlo,'DejaVu Sans Mono',consolas,'Courier New',monospace\">00:08:51.178 | <span style=\"color: #008080; text-decoration-color: #008080\">INFO</span>    | Task run 'tạo tất cả các bảng dim, fact table' - 8\n",
       "</pre>\n"
      ],
      "text/plain": [
       "00:08:51.178 | \u001b[36mINFO\u001b[0m    | Task run 'tạo tất cả các bảng dim, fact table' - 8\n"
      ]
     },
     "metadata": {},
     "output_type": "display_data"
    },
    {
     "data": {
      "text/html": [
       "<pre style=\"white-space:pre;overflow-x:auto;line-height:normal;font-family:Menlo,'DejaVu Sans Mono',consolas,'Courier New',monospace\">00:08:51.181 | <span style=\"color: #008080; text-decoration-color: #008080\">INFO</span>    | Task run 'tạo tất cả các bảng dim, fact table' - Đã chèn 8 dòng vào bảng Dim_Product\n",
       "</pre>\n"
      ],
      "text/plain": [
       "00:08:51.181 | \u001b[36mINFO\u001b[0m    | Task run 'tạo tất cả các bảng dim, fact table' - Đã chèn 8 dòng vào bảng Dim_Product\n"
      ]
     },
     "metadata": {},
     "output_type": "display_data"
    },
    {
     "data": {
      "text/html": [
       "<pre style=\"white-space:pre;overflow-x:auto;line-height:normal;font-family:Menlo,'DejaVu Sans Mono',consolas,'Courier New',monospace\">00:08:51.185 | <span style=\"color: #008080; text-decoration-color: #008080\">INFO</span>    | Task run 'tạo tất cả các bảng dim, fact table' - ==============================\n",
       "</pre>\n"
      ],
      "text/plain": [
       "00:08:51.185 | \u001b[36mINFO\u001b[0m    | Task run 'tạo tất cả các bảng dim, fact table' - ==============================\n"
      ]
     },
     "metadata": {},
     "output_type": "display_data"
    },
    {
     "data": {
      "text/html": [
       "<pre style=\"white-space:pre;overflow-x:auto;line-height:normal;font-family:Menlo,'DejaVu Sans Mono',consolas,'Courier New',monospace\">00:08:51.189 | <span style=\"color: #008080; text-decoration-color: #008080\">INFO</span>    | Task run 'tạo tất cả các bảng dim, fact table' - Tạo bảng dim region\n",
       "</pre>\n"
      ],
      "text/plain": [
       "00:08:51.189 | \u001b[36mINFO\u001b[0m    | Task run 'tạo tất cả các bảng dim, fact table' - Tạo bảng dim region\n"
      ]
     },
     "metadata": {},
     "output_type": "display_data"
    },
    {
     "data": {
      "text/html": [
       "<pre style=\"white-space:pre;overflow-x:auto;line-height:normal;font-family:Menlo,'DejaVu Sans Mono',consolas,'Courier New',monospace\">00:08:51.199 | <span style=\"color: #008080; text-decoration-color: #008080\">INFO</span>    | Task run 'tạo tất cả các bảng dim, fact table' - -1\n",
       "</pre>\n"
      ],
      "text/plain": [
       "00:08:51.199 | \u001b[36mINFO\u001b[0m    | Task run 'tạo tất cả các bảng dim, fact table' - -1\n"
      ]
     },
     "metadata": {},
     "output_type": "display_data"
    },
    {
     "data": {
      "text/html": [
       "<pre style=\"white-space:pre;overflow-x:auto;line-height:normal;font-family:Menlo,'DejaVu Sans Mono',consolas,'Courier New',monospace\">00:08:51.202 | <span style=\"color: #008080; text-decoration-color: #008080\">INFO</span>    | Task run 'tạo tất cả các bảng dim, fact table' - Đã tạo bảng thành công\n",
       "</pre>\n"
      ],
      "text/plain": [
       "00:08:51.202 | \u001b[36mINFO\u001b[0m    | Task run 'tạo tất cả các bảng dim, fact table' - Đã tạo bảng thành công\n"
      ]
     },
     "metadata": {},
     "output_type": "display_data"
    },
    {
     "data": {
      "text/html": [
       "<pre style=\"white-space:pre;overflow-x:auto;line-height:normal;font-family:Menlo,'DejaVu Sans Mono',consolas,'Courier New',monospace\">00:08:51.206 | <span style=\"color: #008080; text-decoration-color: #008080\">INFO</span>    | Task run 'tạo tất cả các bảng dim, fact table' - ==============================\n",
       "</pre>\n"
      ],
      "text/plain": [
       "00:08:51.206 | \u001b[36mINFO\u001b[0m    | Task run 'tạo tất cả các bảng dim, fact table' - ==============================\n"
      ]
     },
     "metadata": {},
     "output_type": "display_data"
    },
    {
     "data": {
      "text/html": [
       "<pre style=\"white-space:pre;overflow-x:auto;line-height:normal;font-family:Menlo,'DejaVu Sans Mono',consolas,'Courier New',monospace\">00:08:51.223 | <span style=\"color: #008080; text-decoration-color: #008080\">INFO</span>    | Task run 'tạo tất cả các bảng dim, fact table' - 4\n",
       "</pre>\n"
      ],
      "text/plain": [
       "00:08:51.223 | \u001b[36mINFO\u001b[0m    | Task run 'tạo tất cả các bảng dim, fact table' - 4\n"
      ]
     },
     "metadata": {},
     "output_type": "display_data"
    },
    {
     "data": {
      "text/html": [
       "<pre style=\"white-space:pre;overflow-x:auto;line-height:normal;font-family:Menlo,'DejaVu Sans Mono',consolas,'Courier New',monospace\">00:08:51.227 | <span style=\"color: #008080; text-decoration-color: #008080\">INFO</span>    | Task run 'tạo tất cả các bảng dim, fact table' - Đã chèn 4 dòng vào bảng Dim_Region\n",
       "</pre>\n"
      ],
      "text/plain": [
       "00:08:51.227 | \u001b[36mINFO\u001b[0m    | Task run 'tạo tất cả các bảng dim, fact table' - Đã chèn 4 dòng vào bảng Dim_Region\n"
      ]
     },
     "metadata": {},
     "output_type": "display_data"
    },
    {
     "data": {
      "text/html": [
       "<pre style=\"white-space:pre;overflow-x:auto;line-height:normal;font-family:Menlo,'DejaVu Sans Mono',consolas,'Courier New',monospace\">00:08:51.231 | <span style=\"color: #008080; text-decoration-color: #008080\">INFO</span>    | Task run 'tạo tất cả các bảng dim, fact table' - ==============================\n",
       "</pre>\n"
      ],
      "text/plain": [
       "00:08:51.231 | \u001b[36mINFO\u001b[0m    | Task run 'tạo tất cả các bảng dim, fact table' - ==============================\n"
      ]
     },
     "metadata": {},
     "output_type": "display_data"
    },
    {
     "data": {
      "text/html": [
       "<pre style=\"white-space:pre;overflow-x:auto;line-height:normal;font-family:Menlo,'DejaVu Sans Mono',consolas,'Courier New',monospace\">00:08:51.235 | <span style=\"color: #008080; text-decoration-color: #008080\">INFO</span>    | Task run 'tạo tất cả các bảng dim, fact table' - Tạo bảng dim time\n",
       "</pre>\n"
      ],
      "text/plain": [
       "00:08:51.235 | \u001b[36mINFO\u001b[0m    | Task run 'tạo tất cả các bảng dim, fact table' - Tạo bảng dim time\n"
      ]
     },
     "metadata": {},
     "output_type": "display_data"
    },
    {
     "data": {
      "text/html": [
       "<pre style=\"white-space:pre;overflow-x:auto;line-height:normal;font-family:Menlo,'DejaVu Sans Mono',consolas,'Courier New',monospace\">00:08:51.246 | <span style=\"color: #008080; text-decoration-color: #008080\">INFO</span>    | Task run 'tạo tất cả các bảng dim, fact table' - -1\n",
       "</pre>\n"
      ],
      "text/plain": [
       "00:08:51.246 | \u001b[36mINFO\u001b[0m    | Task run 'tạo tất cả các bảng dim, fact table' - -1\n"
      ]
     },
     "metadata": {},
     "output_type": "display_data"
    },
    {
     "data": {
      "text/html": [
       "<pre style=\"white-space:pre;overflow-x:auto;line-height:normal;font-family:Menlo,'DejaVu Sans Mono',consolas,'Courier New',monospace\">00:08:51.250 | <span style=\"color: #008080; text-decoration-color: #008080\">INFO</span>    | Task run 'tạo tất cả các bảng dim, fact table' - Đã tạo bảng thành công\n",
       "</pre>\n"
      ],
      "text/plain": [
       "00:08:51.250 | \u001b[36mINFO\u001b[0m    | Task run 'tạo tất cả các bảng dim, fact table' - Đã tạo bảng thành công\n"
      ]
     },
     "metadata": {},
     "output_type": "display_data"
    },
    {
     "data": {
      "text/html": [
       "<pre style=\"white-space:pre;overflow-x:auto;line-height:normal;font-family:Menlo,'DejaVu Sans Mono',consolas,'Courier New',monospace\">00:08:51.252 | <span style=\"color: #008080; text-decoration-color: #008080\">INFO</span>    | Task run 'tạo tất cả các bảng dim, fact table' - ==============================\n",
       "</pre>\n"
      ],
      "text/plain": [
       "00:08:51.252 | \u001b[36mINFO\u001b[0m    | Task run 'tạo tất cả các bảng dim, fact table' - ==============================\n"
      ]
     },
     "metadata": {},
     "output_type": "display_data"
    },
    {
     "data": {
      "text/html": [
       "<pre style=\"white-space:pre;overflow-x:auto;line-height:normal;font-family:Menlo,'DejaVu Sans Mono',consolas,'Courier New',monospace\">00:08:51.271 | <span style=\"color: #008080; text-decoration-color: #008080\">INFO</span>    | Task run 'tạo tất cả các bảng dim, fact table' - 180\n",
       "</pre>\n"
      ],
      "text/plain": [
       "00:08:51.271 | \u001b[36mINFO\u001b[0m    | Task run 'tạo tất cả các bảng dim, fact table' - 180\n"
      ]
     },
     "metadata": {},
     "output_type": "display_data"
    },
    {
     "data": {
      "text/html": [
       "<pre style=\"white-space:pre;overflow-x:auto;line-height:normal;font-family:Menlo,'DejaVu Sans Mono',consolas,'Courier New',monospace\">00:08:51.274 | <span style=\"color: #008080; text-decoration-color: #008080\">INFO</span>    | Task run 'tạo tất cả các bảng dim, fact table' - Đã chèn 180 dòng vào bảng Dim_Time\n",
       "</pre>\n"
      ],
      "text/plain": [
       "00:08:51.274 | \u001b[36mINFO\u001b[0m    | Task run 'tạo tất cả các bảng dim, fact table' - Đã chèn 180 dòng vào bảng Dim_Time\n"
      ]
     },
     "metadata": {},
     "output_type": "display_data"
    },
    {
     "data": {
      "text/html": [
       "<pre style=\"white-space:pre;overflow-x:auto;line-height:normal;font-family:Menlo,'DejaVu Sans Mono',consolas,'Courier New',monospace\">00:08:51.277 | <span style=\"color: #008080; text-decoration-color: #008080\">INFO</span>    | Task run 'tạo tất cả các bảng dim, fact table' - ==============================\n",
       "</pre>\n"
      ],
      "text/plain": [
       "00:08:51.277 | \u001b[36mINFO\u001b[0m    | Task run 'tạo tất cả các bảng dim, fact table' - ==============================\n"
      ]
     },
     "metadata": {},
     "output_type": "display_data"
    },
    {
     "data": {
      "text/html": [
       "<pre style=\"white-space:pre;overflow-x:auto;line-height:normal;font-family:Menlo,'DejaVu Sans Mono',consolas,'Courier New',monospace\">00:08:51.282 | <span style=\"color: #008080; text-decoration-color: #008080\">INFO</span>    | Task run 'tạo tất cả các bảng dim, fact table' - Tạo bảng dim customer\n",
       "</pre>\n"
      ],
      "text/plain": [
       "00:08:51.282 | \u001b[36mINFO\u001b[0m    | Task run 'tạo tất cả các bảng dim, fact table' - Tạo bảng dim customer\n"
      ]
     },
     "metadata": {},
     "output_type": "display_data"
    },
    {
     "data": {
      "text/html": [
       "<pre style=\"white-space:pre;overflow-x:auto;line-height:normal;font-family:Menlo,'DejaVu Sans Mono',consolas,'Courier New',monospace\">00:08:51.289 | <span style=\"color: #008080; text-decoration-color: #008080\">INFO</span>    | Task run 'tạo tất cả các bảng dim, fact table' - -1\n",
       "</pre>\n"
      ],
      "text/plain": [
       "00:08:51.289 | \u001b[36mINFO\u001b[0m    | Task run 'tạo tất cả các bảng dim, fact table' - -1\n"
      ]
     },
     "metadata": {},
     "output_type": "display_data"
    },
    {
     "data": {
      "text/html": [
       "<pre style=\"white-space:pre;overflow-x:auto;line-height:normal;font-family:Menlo,'DejaVu Sans Mono',consolas,'Courier New',monospace\">00:08:51.292 | <span style=\"color: #008080; text-decoration-color: #008080\">INFO</span>    | Task run 'tạo tất cả các bảng dim, fact table' - Đã tạo bảng thành công\n",
       "</pre>\n"
      ],
      "text/plain": [
       "00:08:51.292 | \u001b[36mINFO\u001b[0m    | Task run 'tạo tất cả các bảng dim, fact table' - Đã tạo bảng thành công\n"
      ]
     },
     "metadata": {},
     "output_type": "display_data"
    },
    {
     "data": {
      "text/html": [
       "<pre style=\"white-space:pre;overflow-x:auto;line-height:normal;font-family:Menlo,'DejaVu Sans Mono',consolas,'Courier New',monospace\">00:08:51.295 | <span style=\"color: #008080; text-decoration-color: #008080\">INFO</span>    | Task run 'tạo tất cả các bảng dim, fact table' - ==============================\n",
       "</pre>\n"
      ],
      "text/plain": [
       "00:08:51.295 | \u001b[36mINFO\u001b[0m    | Task run 'tạo tất cả các bảng dim, fact table' - ==============================\n"
      ]
     },
     "metadata": {},
     "output_type": "display_data"
    },
    {
     "data": {
      "text/html": [
       "<pre style=\"white-space:pre;overflow-x:auto;line-height:normal;font-family:Menlo,'DejaVu Sans Mono',consolas,'Courier New',monospace\">00:08:51.313 | <span style=\"color: #008080; text-decoration-color: #008080\">INFO</span>    | Task run 'tạo tất cả các bảng dim, fact table' - 30\n",
       "</pre>\n"
      ],
      "text/plain": [
       "00:08:51.313 | \u001b[36mINFO\u001b[0m    | Task run 'tạo tất cả các bảng dim, fact table' - 30\n"
      ]
     },
     "metadata": {},
     "output_type": "display_data"
    },
    {
     "data": {
      "text/html": [
       "<pre style=\"white-space:pre;overflow-x:auto;line-height:normal;font-family:Menlo,'DejaVu Sans Mono',consolas,'Courier New',monospace\">00:08:51.315 | <span style=\"color: #008080; text-decoration-color: #008080\">INFO</span>    | Task run 'tạo tất cả các bảng dim, fact table' - Đã chèn 30 dòng vào bảng Dim_Customer\n",
       "</pre>\n"
      ],
      "text/plain": [
       "00:08:51.315 | \u001b[36mINFO\u001b[0m    | Task run 'tạo tất cả các bảng dim, fact table' - Đã chèn 30 dòng vào bảng Dim_Customer\n"
      ]
     },
     "metadata": {},
     "output_type": "display_data"
    },
    {
     "data": {
      "text/html": [
       "<pre style=\"white-space:pre;overflow-x:auto;line-height:normal;font-family:Menlo,'DejaVu Sans Mono',consolas,'Courier New',monospace\">00:08:51.319 | <span style=\"color: #008080; text-decoration-color: #008080\">INFO</span>    | Task run 'tạo tất cả các bảng dim, fact table' - ==============================\n",
       "</pre>\n"
      ],
      "text/plain": [
       "00:08:51.319 | \u001b[36mINFO\u001b[0m    | Task run 'tạo tất cả các bảng dim, fact table' - ==============================\n"
      ]
     },
     "metadata": {},
     "output_type": "display_data"
    },
    {
     "data": {
      "text/html": [
       "<pre style=\"white-space:pre;overflow-x:auto;line-height:normal;font-family:Menlo,'DejaVu Sans Mono',consolas,'Courier New',monospace\">00:08:51.323 | <span style=\"color: #008080; text-decoration-color: #008080\">INFO</span>    | Task run 'tạo tất cả các bảng dim, fact table' - Tạo bảng fact_table\n",
       "</pre>\n"
      ],
      "text/plain": [
       "00:08:51.323 | \u001b[36mINFO\u001b[0m    | Task run 'tạo tất cả các bảng dim, fact table' - Tạo bảng fact_table\n"
      ]
     },
     "metadata": {},
     "output_type": "display_data"
    },
    {
     "data": {
      "text/html": [
       "<pre style=\"white-space:pre;overflow-x:auto;line-height:normal;font-family:Menlo,'DejaVu Sans Mono',consolas,'Courier New',monospace\">00:08:51.330 | <span style=\"color: #008080; text-decoration-color: #008080\">INFO</span>    | Task run 'tạo tất cả các bảng dim, fact table' - -1\n",
       "</pre>\n"
      ],
      "text/plain": [
       "00:08:51.330 | \u001b[36mINFO\u001b[0m    | Task run 'tạo tất cả các bảng dim, fact table' - -1\n"
      ]
     },
     "metadata": {},
     "output_type": "display_data"
    },
    {
     "data": {
      "text/html": [
       "<pre style=\"white-space:pre;overflow-x:auto;line-height:normal;font-family:Menlo,'DejaVu Sans Mono',consolas,'Courier New',monospace\">00:08:51.333 | <span style=\"color: #008080; text-decoration-color: #008080\">INFO</span>    | Task run 'tạo tất cả các bảng dim, fact table' - Đã tạo bảng thành công\n",
       "</pre>\n"
      ],
      "text/plain": [
       "00:08:51.333 | \u001b[36mINFO\u001b[0m    | Task run 'tạo tất cả các bảng dim, fact table' - Đã tạo bảng thành công\n"
      ]
     },
     "metadata": {},
     "output_type": "display_data"
    },
    {
     "data": {
      "text/html": [
       "<pre style=\"white-space:pre;overflow-x:auto;line-height:normal;font-family:Menlo,'DejaVu Sans Mono',consolas,'Courier New',monospace\">00:08:51.336 | <span style=\"color: #008080; text-decoration-color: #008080\">INFO</span>    | Task run 'tạo tất cả các bảng dim, fact table' - ==============================\n",
       "</pre>\n"
      ],
      "text/plain": [
       "00:08:51.336 | \u001b[36mINFO\u001b[0m    | Task run 'tạo tất cả các bảng dim, fact table' - ==============================\n"
      ]
     },
     "metadata": {},
     "output_type": "display_data"
    },
    {
     "data": {
      "text/html": [
       "<pre style=\"white-space:pre;overflow-x:auto;line-height:normal;font-family:Menlo,'DejaVu Sans Mono',consolas,'Courier New',monospace\">00:08:51.339 | <span style=\"color: #008080; text-decoration-color: #008080\">INFO</span>    | Task run 'tạo tất cả các bảng dim, fact table' - Insert data vào bảng fact_table\n",
       "</pre>\n"
      ],
      "text/plain": [
       "00:08:51.339 | \u001b[36mINFO\u001b[0m    | Task run 'tạo tất cả các bảng dim, fact table' - Insert data vào bảng fact_table\n"
      ]
     },
     "metadata": {},
     "output_type": "display_data"
    },
    {
     "data": {
      "text/html": [
       "<pre style=\"white-space:pre;overflow-x:auto;line-height:normal;font-family:Menlo,'DejaVu Sans Mono',consolas,'Courier New',monospace\">00:08:51.357 | <span style=\"color: #008080; text-decoration-color: #008080\">INFO</span>    | Task run 'tạo tất cả các bảng dim, fact table' - 1226\n",
       "</pre>\n"
      ],
      "text/plain": [
       "00:08:51.357 | \u001b[36mINFO\u001b[0m    | Task run 'tạo tất cả các bảng dim, fact table' - 1226\n"
      ]
     },
     "metadata": {},
     "output_type": "display_data"
    },
    {
     "data": {
      "text/html": [
       "<pre style=\"white-space:pre;overflow-x:auto;line-height:normal;font-family:Menlo,'DejaVu Sans Mono',consolas,'Courier New',monospace\">00:08:51.362 | <span style=\"color: #008080; text-decoration-color: #008080\">INFO</span>    | Task run 'tạo tất cả các bảng dim, fact table' - Đã chèn 1226 dòng vào bảng fact_table\n",
       "</pre>\n"
      ],
      "text/plain": [
       "00:08:51.362 | \u001b[36mINFO\u001b[0m    | Task run 'tạo tất cả các bảng dim, fact table' - Đã chèn 1226 dòng vào bảng fact_table\n"
      ]
     },
     "metadata": {},
     "output_type": "display_data"
    },
    {
     "data": {
      "text/html": [
       "<pre style=\"white-space:pre;overflow-x:auto;line-height:normal;font-family:Menlo,'DejaVu Sans Mono',consolas,'Courier New',monospace\">00:08:51.364 | <span style=\"color: #008080; text-decoration-color: #008080\">INFO</span>    | Task run 'tạo tất cả các bảng dim, fact table' - ==============================\n",
       "</pre>\n"
      ],
      "text/plain": [
       "00:08:51.364 | \u001b[36mINFO\u001b[0m    | Task run 'tạo tất cả các bảng dim, fact table' - ==============================\n"
      ]
     },
     "metadata": {},
     "output_type": "display_data"
    },
    {
     "data": {
      "text/html": [
       "<pre style=\"white-space:pre;overflow-x:auto;line-height:normal;font-family:Menlo,'DejaVu Sans Mono',consolas,'Courier New',monospace\">00:08:51.368 | <span style=\"color: #008080; text-decoration-color: #008080\">INFO</span>    | Task run 'tạo tất cả các bảng dim, fact table' - tạo khóa ngoại REGION cho fact_table\n",
       "</pre>\n"
      ],
      "text/plain": [
       "00:08:51.368 | \u001b[36mINFO\u001b[0m    | Task run 'tạo tất cả các bảng dim, fact table' - tạo khóa ngoại REGION cho fact_table\n"
      ]
     },
     "metadata": {},
     "output_type": "display_data"
    },
    {
     "data": {
      "text/html": [
       "<pre style=\"white-space:pre;overflow-x:auto;line-height:normal;font-family:Menlo,'DejaVu Sans Mono',consolas,'Courier New',monospace\">00:08:51.393 | <span style=\"color: #008080; text-decoration-color: #008080\">INFO</span>    | Task run 'tạo tất cả các bảng dim, fact table' - 1226\n",
       "</pre>\n"
      ],
      "text/plain": [
       "00:08:51.393 | \u001b[36mINFO\u001b[0m    | Task run 'tạo tất cả các bảng dim, fact table' - 1226\n"
      ]
     },
     "metadata": {},
     "output_type": "display_data"
    },
    {
     "data": {
      "text/html": [
       "<pre style=\"white-space:pre;overflow-x:auto;line-height:normal;font-family:Menlo,'DejaVu Sans Mono',consolas,'Courier New',monospace\">00:08:51.396 | <span style=\"color: #008080; text-decoration-color: #008080\">INFO</span>    | Task run 'tạo tất cả các bảng dim, fact table' - Đã chèn 1226 dòng vào bảng fact_table\n",
       "</pre>\n"
      ],
      "text/plain": [
       "00:08:51.396 | \u001b[36mINFO\u001b[0m    | Task run 'tạo tất cả các bảng dim, fact table' - Đã chèn 1226 dòng vào bảng fact_table\n"
      ]
     },
     "metadata": {},
     "output_type": "display_data"
    },
    {
     "data": {
      "text/html": [
       "<pre style=\"white-space:pre;overflow-x:auto;line-height:normal;font-family:Menlo,'DejaVu Sans Mono',consolas,'Courier New',monospace\">00:08:51.399 | <span style=\"color: #008080; text-decoration-color: #008080\">INFO</span>    | Task run 'tạo tất cả các bảng dim, fact table' - ==============================\n",
       "</pre>\n"
      ],
      "text/plain": [
       "00:08:51.399 | \u001b[36mINFO\u001b[0m    | Task run 'tạo tất cả các bảng dim, fact table' - ==============================\n"
      ]
     },
     "metadata": {},
     "output_type": "display_data"
    },
    {
     "data": {
      "text/html": [
       "<pre style=\"white-space:pre;overflow-x:auto;line-height:normal;font-family:Menlo,'DejaVu Sans Mono',consolas,'Courier New',monospace\">00:08:51.403 | <span style=\"color: #008080; text-decoration-color: #008080\">INFO</span>    | Task run 'tạo tất cả các bảng dim, fact table' - tạo khóa ngoại DATE cho fact_table\n",
       "</pre>\n"
      ],
      "text/plain": [
       "00:08:51.403 | \u001b[36mINFO\u001b[0m    | Task run 'tạo tất cả các bảng dim, fact table' - tạo khóa ngoại DATE cho fact_table\n"
      ]
     },
     "metadata": {},
     "output_type": "display_data"
    },
    {
     "data": {
      "text/html": [
       "<pre style=\"white-space:pre;overflow-x:auto;line-height:normal;font-family:Menlo,'DejaVu Sans Mono',consolas,'Courier New',monospace\">00:08:51.431 | <span style=\"color: #008080; text-decoration-color: #008080\">INFO</span>    | Task run 'tạo tất cả các bảng dim, fact table' - 1226\n",
       "</pre>\n"
      ],
      "text/plain": [
       "00:08:51.431 | \u001b[36mINFO\u001b[0m    | Task run 'tạo tất cả các bảng dim, fact table' - 1226\n"
      ]
     },
     "metadata": {},
     "output_type": "display_data"
    },
    {
     "data": {
      "text/html": [
       "<pre style=\"white-space:pre;overflow-x:auto;line-height:normal;font-family:Menlo,'DejaVu Sans Mono',consolas,'Courier New',monospace\">00:08:51.434 | <span style=\"color: #008080; text-decoration-color: #008080\">INFO</span>    | Task run 'tạo tất cả các bảng dim, fact table' - Đã chèn 1226 dòng vào bảng fact_table\n",
       "</pre>\n"
      ],
      "text/plain": [
       "00:08:51.434 | \u001b[36mINFO\u001b[0m    | Task run 'tạo tất cả các bảng dim, fact table' - Đã chèn 1226 dòng vào bảng fact_table\n"
      ]
     },
     "metadata": {},
     "output_type": "display_data"
    },
    {
     "data": {
      "text/html": [
       "<pre style=\"white-space:pre;overflow-x:auto;line-height:normal;font-family:Menlo,'DejaVu Sans Mono',consolas,'Courier New',monospace\">00:08:51.438 | <span style=\"color: #008080; text-decoration-color: #008080\">INFO</span>    | Task run 'tạo tất cả các bảng dim, fact table' - ==============================\n",
       "</pre>\n"
      ],
      "text/plain": [
       "00:08:51.438 | \u001b[36mINFO\u001b[0m    | Task run 'tạo tất cả các bảng dim, fact table' - ==============================\n"
      ]
     },
     "metadata": {},
     "output_type": "display_data"
    },
    {
     "data": {
      "text/html": [
       "<pre style=\"white-space:pre;overflow-x:auto;line-height:normal;font-family:Menlo,'DejaVu Sans Mono',consolas,'Courier New',monospace\">00:08:51.511 | <span style=\"color: #008080; text-decoration-color: #008080\">INFO</span>    | Task run 'tạo tất cả các bảng dim, fact table' - Finished in state <span style=\"color: #008000; text-decoration-color: #008000\">Completed</span>()\n",
       "</pre>\n"
      ],
      "text/plain": [
       "00:08:51.511 | \u001b[36mINFO\u001b[0m    | Task run 'tạo tất cả các bảng dim, fact table' - Finished in state \u001b[32mCompleted\u001b[0m()\n"
      ]
     },
     "metadata": {},
     "output_type": "display_data"
    },
    {
     "data": {
      "text/html": [
       "<pre style=\"white-space:pre;overflow-x:auto;line-height:normal;font-family:Menlo,'DejaVu Sans Mono',consolas,'Courier New',monospace\">00:08:51.566 | <span style=\"color: #008080; text-decoration-color: #008080\">INFO</span>    | Flow run<span style=\"color: #800080; text-decoration-color: #800080\"> 'ETL to schema week 4'</span> - Created task run 'data modeling-0' for task 'data modeling'\n",
       "</pre>\n"
      ],
      "text/plain": [
       "00:08:51.566 | \u001b[36mINFO\u001b[0m    | Flow run\u001b[35m 'ETL to schema week 4'\u001b[0m - Created task run 'data modeling-0' for task 'data modeling'\n"
      ]
     },
     "metadata": {},
     "output_type": "display_data"
    },
    {
     "data": {
      "text/html": [
       "<pre style=\"white-space:pre;overflow-x:auto;line-height:normal;font-family:Menlo,'DejaVu Sans Mono',consolas,'Courier New',monospace\">00:08:51.568 | <span style=\"color: #008080; text-decoration-color: #008080\">INFO</span>    | Flow run<span style=\"color: #800080; text-decoration-color: #800080\"> 'ETL to schema week 4'</span> - Executing 'data modeling-0' immediately...\n",
       "</pre>\n"
      ],
      "text/plain": [
       "00:08:51.568 | \u001b[36mINFO\u001b[0m    | Flow run\u001b[35m 'ETL to schema week 4'\u001b[0m - Executing 'data modeling-0' immediately...\n"
      ]
     },
     "metadata": {},
     "output_type": "display_data"
    },
    {
     "data": {
      "text/html": [
       "<pre style=\"white-space:pre;overflow-x:auto;line-height:normal;font-family:Menlo,'DejaVu Sans Mono',consolas,'Courier New',monospace\">00:08:51.707 | <span style=\"color: #008080; text-decoration-color: #008080\">INFO</span>    | Task run 'create schema' - TẠO FK - SCHEMA\n",
       "</pre>\n"
      ],
      "text/plain": [
       "00:08:51.707 | \u001b[36mINFO\u001b[0m    | Task run 'create schema' - TẠO FK - SCHEMA\n"
      ]
     },
     "metadata": {},
     "output_type": "display_data"
    },
    {
     "data": {
      "text/html": [
       "<pre style=\"white-space:pre;overflow-x:auto;line-height:normal;font-family:Menlo,'DejaVu Sans Mono',consolas,'Courier New',monospace\">00:08:51.786 | <span style=\"color: #008080; text-decoration-color: #008080\">INFO</span>    | Task run 'create schema' - Hiển thị mối quan hệ của các bảng sau khi tạo FK\n",
       "</pre>\n"
      ],
      "text/plain": [
       "00:08:51.786 | \u001b[36mINFO\u001b[0m    | Task run 'create schema' - Hiển thị mối quan hệ của các bảng sau khi tạo FK\n"
      ]
     },
     "metadata": {},
     "output_type": "display_data"
    },
    {
     "data": {
      "text/html": [
       "<pre style=\"white-space:pre;overflow-x:auto;line-height:normal;font-family:Menlo,'DejaVu Sans Mono',consolas,'Courier New',monospace\">00:08:51.824 | <span style=\"color: #008080; text-decoration-color: #008080\">INFO</span>    | Task run 'create schema' - Table: fact_table_demo (ProductID) -&gt; Table: Dim_Product_demo (ProductID)\n",
       "</pre>\n"
      ],
      "text/plain": [
       "00:08:51.824 | \u001b[36mINFO\u001b[0m    | Task run 'create schema' - Table: fact_table_demo (ProductID) -> Table: Dim_Product_demo (ProductID)\n"
      ]
     },
     "metadata": {},
     "output_type": "display_data"
    },
    {
     "data": {
      "text/html": [
       "<pre style=\"white-space:pre;overflow-x:auto;line-height:normal;font-family:Menlo,'DejaVu Sans Mono',consolas,'Courier New',monospace\">00:08:51.828 | <span style=\"color: #008080; text-decoration-color: #008080\">INFO</span>    | Task run 'create schema' - Table: fact_table_demo (RegionID) -&gt; Table: Dim_Region_demo (RegionID)\n",
       "</pre>\n"
      ],
      "text/plain": [
       "00:08:51.828 | \u001b[36mINFO\u001b[0m    | Task run 'create schema' - Table: fact_table_demo (RegionID) -> Table: Dim_Region_demo (RegionID)\n"
      ]
     },
     "metadata": {},
     "output_type": "display_data"
    },
    {
     "data": {
      "text/html": [
       "<pre style=\"white-space:pre;overflow-x:auto;line-height:normal;font-family:Menlo,'DejaVu Sans Mono',consolas,'Courier New',monospace\">00:08:51.831 | <span style=\"color: #008080; text-decoration-color: #008080\">INFO</span>    | Task run 'create schema' - Table: fact_table_demo (DateID) -&gt; Table: Dim_Time_demo (Date_ID)\n",
       "</pre>\n"
      ],
      "text/plain": [
       "00:08:51.831 | \u001b[36mINFO\u001b[0m    | Task run 'create schema' - Table: fact_table_demo (DateID) -> Table: Dim_Time_demo (Date_ID)\n"
      ]
     },
     "metadata": {},
     "output_type": "display_data"
    },
    {
     "data": {
      "text/html": [
       "<pre style=\"white-space:pre;overflow-x:auto;line-height:normal;font-family:Menlo,'DejaVu Sans Mono',consolas,'Courier New',monospace\">00:08:51.834 | <span style=\"color: #008080; text-decoration-color: #008080\">INFO</span>    | Task run 'create schema' - Table: fact_table_demo (CustomerID) -&gt; Table: Dim_Customer_demo (CustomerId)\n",
       "</pre>\n"
      ],
      "text/plain": [
       "00:08:51.834 | \u001b[36mINFO\u001b[0m    | Task run 'create schema' - Table: fact_table_demo (CustomerID) -> Table: Dim_Customer_demo (CustomerId)\n"
      ]
     },
     "metadata": {},
     "output_type": "display_data"
    },
    {
     "data": {
      "text/html": [
       "<pre style=\"white-space:pre;overflow-x:auto;line-height:normal;font-family:Menlo,'DejaVu Sans Mono',consolas,'Courier New',monospace\">00:08:51.837 | <span style=\"color: #008080; text-decoration-color: #008080\">INFO</span>    | Task run 'create schema' - Table: fact_table (ProductID) -&gt; Table: Dim_Product (ProductID)\n",
       "</pre>\n"
      ],
      "text/plain": [
       "00:08:51.837 | \u001b[36mINFO\u001b[0m    | Task run 'create schema' - Table: fact_table (ProductID) -> Table: Dim_Product (ProductID)\n"
      ]
     },
     "metadata": {},
     "output_type": "display_data"
    },
    {
     "data": {
      "text/html": [
       "<pre style=\"white-space:pre;overflow-x:auto;line-height:normal;font-family:Menlo,'DejaVu Sans Mono',consolas,'Courier New',monospace\">00:08:51.840 | <span style=\"color: #008080; text-decoration-color: #008080\">INFO</span>    | Task run 'create schema' - Table: fact_table (RegionID) -&gt; Table: Dim_Region (RegionID)\n",
       "</pre>\n"
      ],
      "text/plain": [
       "00:08:51.840 | \u001b[36mINFO\u001b[0m    | Task run 'create schema' - Table: fact_table (RegionID) -> Table: Dim_Region (RegionID)\n"
      ]
     },
     "metadata": {},
     "output_type": "display_data"
    },
    {
     "data": {
      "text/html": [
       "<pre style=\"white-space:pre;overflow-x:auto;line-height:normal;font-family:Menlo,'DejaVu Sans Mono',consolas,'Courier New',monospace\">00:08:51.843 | <span style=\"color: #008080; text-decoration-color: #008080\">INFO</span>    | Task run 'create schema' - Table: fact_table (DateID) -&gt; Table: Dim_Time (Date_ID)\n",
       "</pre>\n"
      ],
      "text/plain": [
       "00:08:51.843 | \u001b[36mINFO\u001b[0m    | Task run 'create schema' - Table: fact_table (DateID) -> Table: Dim_Time (Date_ID)\n"
      ]
     },
     "metadata": {},
     "output_type": "display_data"
    },
    {
     "data": {
      "text/html": [
       "<pre style=\"white-space:pre;overflow-x:auto;line-height:normal;font-family:Menlo,'DejaVu Sans Mono',consolas,'Courier New',monospace\">00:08:51.847 | <span style=\"color: #008080; text-decoration-color: #008080\">INFO</span>    | Task run 'create schema' - Table: fact_table (CustomerID) -&gt; Table: Dim_Customer (CustomerId)\n",
       "</pre>\n"
      ],
      "text/plain": [
       "00:08:51.847 | \u001b[36mINFO\u001b[0m    | Task run 'create schema' - Table: fact_table (CustomerID) -> Table: Dim_Customer (CustomerId)\n"
      ]
     },
     "metadata": {},
     "output_type": "display_data"
    },
    {
     "data": {
      "text/html": [
       "<pre style=\"white-space:pre;overflow-x:auto;line-height:normal;font-family:Menlo,'DejaVu Sans Mono',consolas,'Courier New',monospace\">00:08:51.908 | <span style=\"color: #008080; text-decoration-color: #008080\">INFO</span>    | Task run 'create schema' - Finished in state <span style=\"color: #008000; text-decoration-color: #008000\">Completed</span>()\n",
       "</pre>\n"
      ],
      "text/plain": [
       "00:08:51.908 | \u001b[36mINFO\u001b[0m    | Task run 'create schema' - Finished in state \u001b[32mCompleted\u001b[0m()\n"
      ]
     },
     "metadata": {},
     "output_type": "display_data"
    },
    {
     "data": {
      "text/html": [
       "<pre style=\"white-space:pre;overflow-x:auto;line-height:normal;font-family:Menlo,'DejaVu Sans Mono',consolas,'Courier New',monospace\">00:08:51.973 | <span style=\"color: #008080; text-decoration-color: #008080\">INFO</span>    | Flow run<span style=\"color: #800080; text-decoration-color: #800080\"> 'courageous-caribou'</span> - Finished in state <span style=\"color: #008000; text-decoration-color: #008000\">Completed</span>('All states completed.')\n",
       "</pre>\n"
      ],
      "text/plain": [
       "00:08:51.973 | \u001b[36mINFO\u001b[0m    | Flow run\u001b[35m 'courageous-caribou'\u001b[0m - Finished in state \u001b[32mCompleted\u001b[0m('All states completed.')\n"
      ]
     },
     "metadata": {},
     "output_type": "display_data"
    },
    {
     "data": {
      "text/plain": [
       "[Completed(message=None, type=COMPLETED, result=LiteralResult(type='literal', artifact_type='result', artifact_description='Result with value `None` persisted to Prefect.', value=None)),\n",
       " Completed(message=None, type=COMPLETED, result=UnpersistedResult(type='unpersisted', artifact_type='result', artifact_description='Unpersisted result of type `NoneType`')),\n",
       " Completed(message=None, type=COMPLETED, result=UnpersistedResult(type='unpersisted', artifact_type='result', artifact_description='Unpersisted result of type `NoneType`'))]"
      ]
     },
     "execution_count": 24,
     "metadata": {},
     "output_type": "execute_result"
    }
   ],
   "source": [
    "@flow(\n",
    "        name = \"FLOW ETL TO SCHEMA - WEEK 4 - USING PREFECT PYTHON (DATA WEEK 2)\"\n",
    "        , flow_run_name = \"ETL to schema week 4\"\n",
    "        , log_prints = True\n",
    "        , description= \"buld flow cho các bước bên trên: tạo dim, fact, moldeling...\"\n",
    ")\n",
    "def build_flow():\n",
    "    drop_fk_constraints()\n",
    "    create_dim_table()\n",
    "    data_modeling()\n",
    "build_flow()"
   ]
  }
 ],
 "metadata": {
  "kernelspec": {
   "display_name": "Python 3",
   "language": "python",
   "name": "python3"
  },
  "language_info": {
   "codemirror_mode": {
    "name": "ipython",
    "version": 3
   },
   "file_extension": ".py",
   "mimetype": "text/x-python",
   "name": "python",
   "nbconvert_exporter": "python",
   "pygments_lexer": "ipython3",
   "version": "3.10.9"
  },
  "orig_nbformat": 4
 },
 "nbformat": 4,
 "nbformat_minor": 2
}
