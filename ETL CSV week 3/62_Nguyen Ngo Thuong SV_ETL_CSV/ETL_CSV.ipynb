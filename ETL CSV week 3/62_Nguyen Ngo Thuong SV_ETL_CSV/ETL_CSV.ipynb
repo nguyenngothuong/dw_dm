{
 "cells": [
  {
   "cell_type": "code",
   "execution_count": 1,
   "metadata": {},
   "outputs": [],
   "source": [
    "import pandas as pd"
   ]
  },
  {
   "cell_type": "markdown",
   "metadata": {},
   "source": [
    "convert csv file to df"
   ]
  },
  {
   "cell_type": "code",
   "execution_count": 4,
   "metadata": {},
   "outputs": [],
   "source": [
    "df_categoires = pd.read_csv(r\"G:/My Drive/HỌC TẬP DUE/NNT_năm 4 kì 1/DW & DM/data_warehouse/ETL CSV week 3/62_Nguyen Ngo Thuong SV_ETL_CSV/data set/categories.csv\", sep=';')\n",
    "df_customters = pd.read_csv(r\"G:/My Drive/HỌC TẬP DUE/NNT_năm 4 kì 1/DW & DM/data_warehouse/ETL CSV week 3/62_Nguyen Ngo Thuong SV_ETL_CSV/data set/customers.csv\")\n",
    "df_employee_territories = pd.read_csv(r\"G:/My Drive/HỌC TẬP DUE/NNT_năm 4 kì 1/DW & DM/data_warehouse/ETL CSV week 3/62_Nguyen Ngo Thuong SV_ETL_CSV/data set/employee_territories.csv\")\n",
    "df_employees = pd.read_csv(r\"G:/My Drive/HỌC TẬP DUE/NNT_năm 4 kì 1/DW & DM/data_warehouse/ETL CSV week 3/62_Nguyen Ngo Thuong SV_ETL_CSV/data set/employees.csv\")\n",
    "df_order_details = pd.read_csv(r\"G:/My Drive/HỌC TẬP DUE/NNT_năm 4 kì 1/DW & DM/data_warehouse/ETL CSV week 3/62_Nguyen Ngo Thuong SV_ETL_CSV/data set/order_details.csv\")\n",
    "df_orders = pd.read_csv(r\"G:/My Drive/HỌC TẬP DUE/NNT_năm 4 kì 1/DW & DM/data_warehouse/ETL CSV week 3/62_Nguyen Ngo Thuong SV_ETL_CSV/data set/orders.csv\")\n",
    "df_products = pd.read_csv(r\"G:/My Drive/HỌC TẬP DUE/NNT_năm 4 kì 1/DW & DM/data_warehouse/ETL CSV week 3/62_Nguyen Ngo Thuong SV_ETL_CSV/data set/products.csv\")\n",
    "df_regions = pd.read_csv(r\"G:/My Drive/HỌC TẬP DUE/NNT_năm 4 kì 1/DW & DM/data_warehouse/ETL CSV week 3/62_Nguyen Ngo Thuong SV_ETL_CSV/data set/regions.csv\")\n",
    "df_shippers = pd.read_csv(r\"G:/My Drive/HỌC TẬP DUE/NNT_năm 4 kì 1/DW & DM/data_warehouse/ETL CSV week 3/62_Nguyen Ngo Thuong SV_ETL_CSV/data set/shippers.csv\")\n",
    "df_suppliers = pd.read_csv(r\"G:/My Drive/HỌC TẬP DUE/NNT_năm 4 kì 1/DW & DM/data_warehouse/ETL CSV week 3/62_Nguyen Ngo Thuong SV_ETL_CSV/data set/suppliers.csv\")\n",
    "df_territories = pd.read_csv(r\"G:/My Drive/HỌC TẬP DUE/NNT_năm 4 kì 1/DW & DM/data_warehouse/ETL CSV week 3/62_Nguyen Ngo Thuong SV_ETL_CSV/data set/territories.csv\")"
   ]
  },
  {
   "cell_type": "markdown",
   "metadata": {},
   "source": [
    "tạo def"
   ]
  },
  {
   "cell_type": "code",
   "execution_count": 5,
   "metadata": {},
   "outputs": [],
   "source": [
    "def check_common_columns(df_1,df_2):\n",
    "    #get columns name to lisst\n",
    "    column_names_df_1 = df_1.columns.tolist()\n",
    "    column_names_df_2 = df_2.columns.tolist()\n",
    "    \n",
    "    #convert list to set\n",
    "    set_column_names_df_1 = set(column_names_df_1)\n",
    "    set_column_names_df_2 = set(column_names_df_2)\n",
    "\n",
    "    #check common columns\n",
    "    common_columns = set_column_names_df_1.intersection(set_column_names_df_2)\n",
    "    print(f\"Các cột chung trong hai danh sách và là:\", common_columns)\n",
    "\n",
    "def merge_df(df_1,df_2,key_column,how,name=None):\n",
    "    check_common_columns(df_1, df_2)\n",
    "    if name:\n",
    "        print(\"DataFrame được gọi: \", name)\n",
    "    df = pd.merge(df_1, df_2, on=key_column, how=how)\n",
    "\n",
    "    print(f\"\"\"Dataframe 1 có (hàng, cột): {df_1.shape}\\nDataframe 2 có (hàng, cột): {df_2.shape}\\nNối bằng cột: {key_column}\\nCách nối: {how}\\nKết quả sau khi merge (hàng, cột): {df.shape}\\n\"\"\")\n",
    "\n",
    "    print(\"=\" * 30)\n",
    "    return df\n"
   ]
  },
  {
   "cell_type": "code",
   "execution_count": 7,
   "metadata": {},
   "outputs": [
    {
     "name": "stdout",
     "output_type": "stream",
     "text": [
      "Các cột chung trong hai danh sách và là: {'categoryID'}\n",
      "DataFrame được gọi:  nối 2 bảng df_categoires, df_products\n",
      "Dataframe 1 có (hàng, cột): (8, 3)\n",
      "Dataframe 2 có (hàng, cột): (77, 10)\n",
      "Nối bằng cột: categoryID\n",
      "Cách nối: outer\n",
      "Kết quả sau khi merge (hàng, cột): (77, 12)\n",
      "\n",
      "==============================\n"
     ]
    }
   ],
   "source": [
    "# check_common_columns(df_categoires, df_products)\n",
    "df_cate_prd = merge_df(df_categoires, df_products,'categoryID','outer','nối 2 bảng df_categoires, df_products')"
   ]
  },
  {
   "cell_type": "code",
   "execution_count": null,
   "metadata": {},
   "outputs": [],
   "source": [
    "check_common_columns(df_cate_prd, df_suppliers)"
   ]
  },
  {
   "cell_type": "markdown",
   "metadata": {},
   "source": [
    "dùng thử def cho nhanh"
   ]
  },
  {
   "cell_type": "code",
   "execution_count": null,
   "metadata": {},
   "outputs": [],
   "source": [
    "# df_cate_prd = merge_df(df_categoires, df_products,'categoryID','outer',\"df_categoires và df_products\")\n",
    "# df_cate_prd_supp = merge_df(df_cate_prd, df_suppliers, 'supplierID', 'outer', \"df_cate_prd và df_suppliers\")\n",
    "# df_cate_prd_supp_order_details = merge_df(df_cate_prd_supp, df_order_details, 'productID', 'outer' )\n",
    "# df_cate_prd_supp_order_details_ord = merge_df(df_cate_prd_supp_order_details, df_orders, 'orderID', 'outer','df_cate_prd_supp_order_details và df_orders')\n",
    "\n"
   ]
  },
  {
   "cell_type": "markdown",
   "metadata": {},
   "source": [
    "KIỂM TRA CỘT CHUNG"
   ]
  },
  {
   "cell_type": "code",
   "execution_count": null,
   "metadata": {},
   "outputs": [],
   "source": [
    "check_common_columns(df_categoires, df_products)\n",
    "check_common_columns(df_cate_prd, df_suppliers)\n",
    "\n"
   ]
  },
  {
   "cell_type": "markdown",
   "metadata": {},
   "source": [
    "dùng bằng cơm\n"
   ]
  },
  {
   "cell_type": "code",
   "execution_count": null,
   "metadata": {},
   "outputs": [],
   "source": [
    "check_common_columns(df_categoires, df_products)\n",
    "df_cate_prd = pd.merge(df_categoires, df_products, on='categoryID', how='outer')"
   ]
  },
  {
   "cell_type": "code",
   "execution_count": null,
   "metadata": {},
   "outputs": [],
   "source": [
    "check_common_columns(df_cate_prd, df_suppliers)\n",
    "df_cate_prd_supp = pd.merge(df_cate_prd, df_suppliers, on='supplierID', how='outer')\n"
   ]
  },
  {
   "cell_type": "code",
   "execution_count": null,
   "metadata": {},
   "outputs": [],
   "source": [
    "check_common_columns(df_cate_prd_supp, df_order_details)\n",
    "df_cate_prd_supp_order_details = pd.merge(df_cate_prd_supp, df_order_details, on='productID', how='outer')"
   ]
  },
  {
   "cell_type": "code",
   "execution_count": null,
   "metadata": {},
   "outputs": [],
   "source": [
    "check_common_columns(df_cate_prd_supp_order_details,df_orders)\n",
    "df_cate_prd_supp_order_details_ord = pd.merge(df_cate_prd_supp_order_details,df_orders,on='orderID', how='outer')"
   ]
  },
  {
   "cell_type": "code",
   "execution_count": null,
   "metadata": {},
   "outputs": [],
   "source": [
    "check_common_columns(df_cate_prd_supp_order_details_ord,df_customters)\n",
    "df_cate_prd_supp_order_details_ord_cus = pd.merge(df_cate_prd_supp_order_details_ord,df_customters,on='customerID', how='outer')"
   ]
  },
  {
   "cell_type": "code",
   "execution_count": null,
   "metadata": {},
   "outputs": [],
   "source": [
    "check_common_columns(df_cate_prd_supp_order_details_ord_cus,df_employees)\n",
    "df_cate_prd_supp_order_details_ord_cus_empl = pd.merge(df_cate_prd_supp_order_details_ord_cus,df_employees,on='employeeID', how='outer')"
   ]
  },
  {
   "cell_type": "code",
   "execution_count": null,
   "metadata": {},
   "outputs": [],
   "source": [
    "check_common_columns(df_cate_prd_supp_order_details_ord_cus_empl,df_employee_territories)\n",
    "df_cate_prd_supp_order_details_ord_cus_empl_emplt = pd.merge(df_cate_prd_supp_order_details_ord_cus_empl,df_employee_territories,on='employeeID', how='outer')"
   ]
  },
  {
   "cell_type": "code",
   "execution_count": null,
   "metadata": {},
   "outputs": [],
   "source": [
    "check_common_columns(df_cate_prd_supp_order_details_ord_cus_empl_emplt,df_territories)\n",
    "\n",
    "df_cate_prd_supp_order_details_ord_cus_empl_emplt_territories = pd.merge(df_cate_prd_supp_order_details_ord_cus_empl_emplt,df_territories,on='territoryID', how='outer')\n"
   ]
  },
  {
   "cell_type": "code",
   "execution_count": null,
   "metadata": {},
   "outputs": [],
   "source": [
    "check_common_columns(df_cate_prd_supp_order_details_ord_cus_empl_emplt_territories,df_regions)\n",
    "df_final = pd.merge(df_cate_prd_supp_order_details_ord_cus_empl_emplt_territories,df_regions,on='regionID', how='outer')"
   ]
  },
  {
   "cell_type": "markdown",
   "metadata": {},
   "source": [
    "xuất ra csv"
   ]
  },
  {
   "cell_type": "code",
   "execution_count": null,
   "metadata": {},
   "outputs": [],
   "source": [
    "df_final.to_csv(\"df_check_ytb.csv\", index=False)"
   ]
  },
  {
   "cell_type": "code",
   "execution_count": null,
   "metadata": {},
   "outputs": [],
   "source": [
    "# df_final.head()\n",
    "\n",
    "# Sử dụng .isnull() để kiểm tra giá trị trống\n",
    "null_values = df_final.isnull()\n",
    "# Đếm số lượng giá trị trống trong mỗi cột\n",
    "null_counts_per_column = df_final.isnull().sum()\n",
    "\n",
    "print(null_counts_per_column)\n",
    "\n",
    "# print(null_values)"
   ]
  },
  {
   "cell_type": "code",
   "execution_count": null,
   "metadata": {},
   "outputs": [],
   "source": [
    "df_cleaned = df_final.dropna(subset=['orderID'])\n",
    "# name_columns = df_final.columns.tolist()\n",
    "# print(name_columns)"
   ]
  },
  {
   "cell_type": "code",
   "execution_count": null,
   "metadata": {},
   "outputs": [],
   "source": [
    "df_cleaned.to_csv(\"df_final_check1.csv\",index=False)"
   ]
  },
  {
   "cell_type": "markdown",
   "metadata": {},
   "source": [
    "khởi tạo kết nối đến db"
   ]
  },
  {
   "cell_type": "code",
   "execution_count": 2,
   "metadata": {},
   "outputs": [],
   "source": [
    "import yaml\n",
    "import pyodbc\n",
    "from sqlalchemy import create_engine\n",
    "\n",
    "# Đọc thông tin từ file YAML\n",
    "file_path_yaml = r\"G:\\My Drive\\HỌC TẬP DUE\\NNT_năm 4 kì 1\\DW & DM\\ETL_Sale week 2\\ETL SALE PYTHON\\STT_Nguyen Ngo Thuong SV_ETL_Sale\\config.yaml\"\n",
    "with open(file_path_yaml, 'r') as yaml_file:\n",
    "    config = yaml.safe_load(yaml_file)\n",
    "\n",
    "server = config['database']['server']\n",
    "database = config['database']['database']\n",
    "username = config['database']['username']\n",
    "password = config['database']['password']\n",
    "\n",
    "\n",
    "# # Chuỗi kết nối SQL Server\n",
    "# conn_str = f'mssql+pyodbc://{username}:{password}@{server}/{database}?driver=ODBC+Driver+17+for+SQL+Server&charset=utf8'\n",
    "\n",
    "# Tạo chuỗi kết nối cho pyodbc\n",
    "conn_str = f'DRIVER={{ODBC Driver 17 for SQL Server}};SERVER={server};Database={database};UID={username};PWD={password}'\n",
    "conx = pyodbc.connect(conn_str)\n",
    "\n",
    "# Tạo URL kết nối cho SQLAlchemy\n",
    "db_url = f\"mssql+pyodbc://{username}:{password}@{server}/{database}?driver=ODBC+Driver+17+for+SQL+Server\"\n",
    "engine = create_engine(db_url)"
   ]
  },
  {
   "cell_type": "markdown",
   "metadata": {},
   "source": [
    "load data vào db"
   ]
  },
  {
   "cell_type": "code",
   "execution_count": null,
   "metadata": {},
   "outputs": [],
   "source": [
    "# Đổi 'table_name' thành tên bảng bạn muốn lưu dữ liệu vào\n",
    "table_name = 'ETL_CSV'\n",
    "\n",
    "# Lưu DataFrame vào cơ sở dữ liệu\n",
    "df_cleaned.to_sql(table_name, con=engine, if_exists='replace', index=False)\n",
    "\n",
    "# Đóng kết nối pyodbc\n",
    "conx.close()"
   ]
  },
  {
   "cell_type": "markdown",
   "metadata": {},
   "source": [
    "Kiểm tra kết nối, truy vấn thử"
   ]
  },
  {
   "cell_type": "code",
   "execution_count": null,
   "metadata": {},
   "outputs": [],
   "source": [
    "conx = pyodbc.connect(conn_str)\n",
    "\n",
    "# Truy vấn để hiển thị top 100 dòng đầu tiên\n",
    "query = f\"SELECT TOP 100 * FROM {table_name}\" # Hoặc sử dụng: \"SELECT * FROM {table_name} FETCH FIRST 100 ROWS ONLY\"\n",
    "\n",
    "\n",
    "# query = \"\"\"\n",
    "#     SELECT COLUMN_NAME, DATA_TYPE \n",
    "#     FROM INFORMATION_SCHEMA.COLUMNS \n",
    "#     WHERE TABLE_NAME = 'ETL_CSV';\n",
    "# \"\"\"\n",
    "\n",
    "\n",
    "# Thực hiện truy vấn và hiển thị kết quả\n",
    "cursor = conx.cursor()\n",
    "cursor.execute(query)\n",
    "\n",
    "\n",
    "# Lấy tất cả các dòng từ kết quả truy vấn và lưu vào một danh sách\n",
    "rows = cursor.fetchall()\n",
    "\n",
    "# Lấy tên các cột từ cursor.description\n",
    "columns = [column[0] for column in cursor.description]\n",
    "\n",
    "# Tạo DataFrame từ danh sách dòng và tên cột\n",
    "df = pd.DataFrame(rows, columns=columns)\n",
    "\n",
    "# In ra DataFrame\n",
    "print(df)\n",
    "\n",
    "# Đóng kết nối pyodbc\n",
    "conx.close()"
   ]
  },
  {
   "cell_type": "markdown",
   "metadata": {},
   "source": [
    "Kiểm tra kết nối, truy vấn thử bằng pandas"
   ]
  },
  {
   "cell_type": "code",
   "execution_count": 7,
   "metadata": {},
   "outputs": [
    {
     "name": "stdout",
     "output_type": "stream",
     "text": [
      "   categoryID  categoryName                              description  \\\n",
      "0         1.0     Beverages  Soft drinks coffees teas beers and ales   \n",
      "1         6.0  Meat/Poultry                           Prepared meats   \n",
      "2         8.0       Seafood                         Seaweed and fish   \n",
      "3         1.0     Beverages  Soft drinks coffees teas beers and ales   \n",
      "4         1.0     Beverages  Soft drinks coffees teas beers and ales   \n",
      "\n",
      "   productID       productName  supplierID      quantityPerUnit  unitPrice_x  \\\n",
      "0        1.0              Chai         1.0   10 boxes x 20 bags         18.0   \n",
      "1       53.0     Perth Pasties        24.0            48 pieces         32.8   \n",
      "2       40.0  Boston Crab Meat        19.0       24 - 4 oz tins         18.4   \n",
      "3        2.0             Chang         1.0   24 - 12 oz bottles         19.0   \n",
      "4       70.0     Outback Lager         7.0  24 - 355 ml bottles         15.0   \n",
      "\n",
      "   unitsInStock  unitsOnOrder  ...       homePhone  extension  \\\n",
      "0          39.0           0.0  ...  (206) 555-9857     5467.0   \n",
      "1           0.0           0.0  ...  (206) 555-9857     5467.0   \n",
      "2         123.0           0.0  ...  (206) 555-9857     5467.0   \n",
      "3          17.0          40.0  ...  (206) 555-9857     5467.0   \n",
      "4          15.0          10.0  ...  (206) 555-9857     5467.0   \n",
      "\n",
      "                                               photo  \\\n",
      "0  0x151C2F00020000000D000E0014002100FFFFFFFF4269...   \n",
      "1  0x151C2F00020000000D000E0014002100FFFFFFFF4269...   \n",
      "2  0x151C2F00020000000D000E0014002100FFFFFFFF4269...   \n",
      "3  0x151C2F00020000000D000E0014002100FFFFFFFF4269...   \n",
      "4  0x151C2F00020000000D000E0014002100FFFFFFFF4269...   \n",
      "\n",
      "                                               notes reportsTo  \\\n",
      "0  Education includes a BA in psychology from Col...       2.0   \n",
      "1  Education includes a BA in psychology from Col...       2.0   \n",
      "2  Education includes a BA in psychology from Col...       2.0   \n",
      "3  Education includes a BA in psychology from Col...       2.0   \n",
      "4  Education includes a BA in psychology from Col...       2.0   \n",
      "\n",
      "                              photoPath territoryID territoryDescription  \\\n",
      "0  http://accweb/emmployees/davolio.bmp      6897.0               Wilton   \n",
      "1  http://accweb/emmployees/davolio.bmp      6897.0               Wilton   \n",
      "2  http://accweb/emmployees/davolio.bmp      6897.0               Wilton   \n",
      "3  http://accweb/emmployees/davolio.bmp      6897.0               Wilton   \n",
      "4  http://accweb/emmployees/davolio.bmp      6897.0               Wilton   \n",
      "\n",
      "  regionID regionDescription  \n",
      "0      1.0           Eastern  \n",
      "1      1.0           Eastern  \n",
      "2      1.0           Eastern  \n",
      "3      1.0           Eastern  \n",
      "4      1.0           Eastern  \n",
      "\n",
      "[5 rows x 71 columns]\n"
     ]
    },
    {
     "name": "stderr",
     "output_type": "stream",
     "text": [
      "c:\\Users\\admin\\AppData\\Local\\Programs\\Python\\Python310\\lib\\site-packages\\pandas\\io\\sql.py:761: UserWarning: pandas only support SQLAlchemy connectable(engine/connection) ordatabase string URI or sqlite3 DBAPI2 connectionother DBAPI2 objects are not tested, please consider using SQLAlchemy\n",
      "  warnings.warn(\n"
     ]
    }
   ],
   "source": [
    "conx = pyodbc.connect(conn_str)\n",
    "\n",
    "# Đổi 'table_name' thành tên bảng bạn muốn lưu dữ liệu vào\n",
    "table_name = 'ETL_CSV'\n",
    "\n",
    "# Kết nối đến cơ sở dữ liệu\n",
    "conx = pyodbc.connect(conn_str)\n",
    "\n",
    "# Truy vấn để lấy dữ liệu\n",
    "query = f\"SELECT TOP 100 * FROM {table_name}\"\n",
    "\n",
    "# Đọc dữ liệu từ truy vấn và tạo DataFrame\n",
    "data = pd.read_sql(query, conx)\n",
    "\n",
    "# Đóng kết nối pyodbc\n",
    "conx.close()\n",
    "\n",
    "# Hiển thị DataFrame\n",
    "print(data.head(5))\n"
   ]
  }
 ],
 "metadata": {
  "kernelspec": {
   "display_name": "Python 3",
   "language": "python",
   "name": "python3"
  },
  "language_info": {
   "codemirror_mode": {
    "name": "ipython",
    "version": 3
   },
   "file_extension": ".py",
   "mimetype": "text/x-python",
   "name": "python",
   "nbconvert_exporter": "python",
   "pygments_lexer": "ipython3",
   "version": "3.10.9"
  },
  "orig_nbformat": 4
 },
 "nbformat": 4,
 "nbformat_minor": 2
}
