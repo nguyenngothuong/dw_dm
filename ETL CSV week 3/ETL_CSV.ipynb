{
 "cells": [
  {
   "cell_type": "markdown",
   "metadata": {},
   "source": [
    "# KHỞI TẠO THƯ VIỆN CẦN THIẾT"
   ]
  },
  {
   "cell_type": "code",
   "execution_count": 2,
   "metadata": {},
   "outputs": [],
   "source": [
    "import pandas as pd\n",
    "import yaml\n",
    "import pyodbc\n",
    "from sqlalchemy import create_engine\n",
    "from prefect import flow, task, get_run_logger\n",
    "from prefect.tasks import task_input_hash\n",
    "from datetime import timedelta\n",
    "\n",
    "import sys\n",
    "sys.path.append(r\"G:/My Drive/HỌC TẬP DUE/NNT_năm 4 kì 1/DW & DM/config\")\n",
    "import mdl_db_connection"
   ]
  },
  {
   "cell_type": "markdown",
   "metadata": {},
   "source": [
    "# KHỞI TẠO HÀM"
   ]
  },
  {
   "cell_type": "markdown",
   "metadata": {},
   "source": [
    "convert csv file to df"
   ]
  },
  {
   "cell_type": "markdown",
   "metadata": {},
   "source": [
    "tạo def"
   ]
  },
  {
   "cell_type": "code",
   "execution_count": 3,
   "metadata": {},
   "outputs": [],
   "source": [
    "def check_common_columns(df_1,df_2):\n",
    "    #get columns name to lisst\n",
    "    column_names_df_1 = df_1.columns.tolist()\n",
    "    column_names_df_2 = df_2.columns.tolist()\n",
    "    \n",
    "    #convert list to set\n",
    "    set_column_names_df_1 = set(column_names_df_1)\n",
    "    set_column_names_df_2 = set(column_names_df_2)\n",
    "\n",
    "    #check common columns\n",
    "    common_columns = set_column_names_df_1.intersection(set_column_names_df_2)\n",
    "    print(f\"Các cột chung trong hai danh sách và là:\", common_columns)\n",
    "\n",
    "def merge_df(df_1,df_2,key_column,how,name=None):\n",
    "    check_common_columns(df_1, df_2)\n",
    "    if name:\n",
    "        print(\"DataFrame được gọi: \", name)\n",
    "    df = pd.merge(df_1, df_2, on=key_column, how=how)\n",
    "\n",
    "    print(f\"\"\"Dataframe 1 có (hàng, cột): {df_1.shape}\\nDataframe 2 có (hàng, cột): {df_2.shape}\\nNối bằng cột: {key_column}\\nCách nối: {how}\\nKết quả sau khi merge (hàng, cột): {df.shape}\\n\"\"\")\n",
    "\n",
    "    print(\"=\" * 30)\n",
    "    return df\n"
   ]
  },
  {
   "cell_type": "markdown",
   "metadata": {},
   "source": [
    "# TẠO ETL"
   ]
  },
  {
   "cell_type": "markdown",
   "metadata": {},
   "source": [
    "## EXTRACT"
   ]
  },
  {
   "cell_type": "code",
   "execution_count": 4,
   "metadata": {},
   "outputs": [],
   "source": [
    "@task(name=\"convert sheet to dataframe\", \n",
    "      description=\"có nhiều file csv nên mình ném vào dics return rồi lấy ra sau\",\n",
    "      task_run_name=\"convert csv to dataframe\",\n",
    "      cache_key_fn=task_input_hash, \n",
    "      cache_expiration=timedelta(days=1))\n",
    "def extract_csv():\n",
    "    dataframes = {}  # Khởi tạo một từ điển để lưu trữ các DataFrame\n",
    "    dataframes['categories'] = pd.read_csv(\"categories.csv\", sep=';')\n",
    "    dataframes['customers'] = pd.read_csv(\"customers.csv\")\n",
    "    dataframes['employee_territories'] = pd.read_csv(\"employee_territories.csv\")\n",
    "    dataframes['employees'] = pd.read_csv(\"employees.csv\")\n",
    "    dataframes['order_details'] = pd.read_csv(\"order_details.csv\")\n",
    "    dataframes['orders'] = pd.read_csv(\"orders.csv\")\n",
    "    dataframes['products'] = pd.read_csv(\"products.csv\")\n",
    "    dataframes['regions'] = pd.read_csv(\"regions.csv\")\n",
    "    dataframes['shippers'] = pd.read_csv(\"shippers.csv\")\n",
    "    dataframes['suppliers'] = pd.read_csv(\"suppliers.csv\")\n",
    "    dataframes['territories'] = pd.read_csv(\"territories.csv\")\n",
    "    return dataframes  # Trả về từ điển chứa tất cả các DataFrame\n",
    "\n"
   ]
  },
  {
   "cell_type": "markdown",
   "metadata": {},
   "source": [
    "## TRANSFORM"
   ]
  },
  {
   "cell_type": "code",
   "execution_count": 5,
   "metadata": {},
   "outputs": [],
   "source": [
    "@task(name=\"merge join outer df\", \n",
    "      description=\"yêu cầu là nối lại với nhau để tạo bảng lớn, xóa đi các record với orderID là null\",\n",
    "      task_run_name=\"merge join df\",\n",
    "      cache_key_fn=task_input_hash, \n",
    "      cache_expiration=timedelta(days=1)\n",
    "    )\n",
    "def transform_df(dfs):\n",
    "  logger = get_run_logger()\n",
    "  logger.info(\"dùng logger - transform data\")\n",
    "  print(\"print - transform data\")\n",
    "\n",
    "  #gọi ra các df trong dfs\n",
    "  df_categoires = dfs['categories']\n",
    "  df_customers = dfs['customers']\n",
    "  df_employee_territories = dfs['employee_territories']\n",
    "  df_employees = dfs['employees']\n",
    "  df_order_details = dfs['order_details']\n",
    "  df_orders = dfs['orders']\n",
    "  df_products = dfs['products']\n",
    "  df_regions = dfs['regions']\n",
    "  df_shippers = dfs['shippers']\n",
    "  df_suppliers = dfs['suppliers']\n",
    "  df_territories = dfs['territories']\n",
    "\n",
    "  df_1 = merge_df(df_categoires, df_products,'categoryID','outer',\"df_categoires và df_products\")\n",
    "  df_2 = merge_df(df_1, df_suppliers, 'supplierID', 'outer', \"df_cate_prd và df_suppliers\")\n",
    "  df_3 = merge_df(df_2, df_order_details, 'productID', 'outer' )\n",
    "  df_4 = merge_df(df_3, df_orders, 'orderID', 'outer','df_cate_prd_supp_order_details và df_orders')\n",
    "\n",
    "  df_5 = merge_df(df_4, df_customers, 'customerID', 'left')\n",
    "\n",
    "  df_6 = merge_df(df_5, df_employees, 'employeeID', 'left')\n",
    "\n",
    "  df_7 = merge_df(df_6, df_employee_territories, 'employeeID', 'left')\n",
    "\n",
    "  df_8 = merge_df(df_7, df_territories, 'territoryID', 'left')\n",
    "\n",
    "\n",
    "  df_final = merge_df(df_8, df_regions, 'regionID', 'left')\n",
    "\n",
    "  df_final = df_final.dropna(subset=['orderID'])\n",
    "\n",
    "\n",
    "  return df_final"
   ]
  },
  {
   "cell_type": "markdown",
   "metadata": {},
   "source": [
    "## LOAD"
   ]
  },
  {
   "cell_type": "code",
   "execution_count": 6,
   "metadata": {},
   "outputs": [],
   "source": [
    "@task(name=\"load df vào database\", \n",
    "      description=\"lưu vào db để sau sử dụng lại\", \n",
    "      task_run_name=\"load df vào database\",\n",
    "      cache_key_fn=task_input_hash, #lưu lại cache\n",
    "      cache_expiration=timedelta(days=1) #thời gian cache lưu lại\n",
    "    )\n",
    "def load_df_to_db(df_final):\n",
    "    logger = get_run_logger()\n",
    "    logger.info(\"dùng logger - load df vào database\")\n",
    "    print(\"print - load df vào database\")\n",
    "    conn_str, engine = mdl_db_connection.connect_db()\n",
    "    conx = pyodbc.connect(conn_str) \n",
    "    # Đổi 'table_name' thành tên bảng bạn muốn lưu dữ liệu vào\n",
    "    table_name = 'ETL_CSV_02092023'\n",
    "    # Lưu DataFrame vào cơ sở dữ liệu\n",
    "    df_final.to_sql(table_name, con=engine, if_exists='replace', index=False)\n",
    "    conx.commit()\n",
    "    # Đóng kết nối pyodbc\n",
    "    conx.close()\n"
   ]
  },
  {
   "cell_type": "markdown",
   "metadata": {},
   "source": [
    "## BUILD FLOW"
   ]
  },
  {
   "cell_type": "code",
   "execution_count": 7,
   "metadata": {},
   "outputs": [],
   "source": [
    "@flow(\n",
    "      name = \"FLOW ETL csv TO DB - WEEK 3 - USING PREFECT PYTHON\"\n",
    "      , flow_run_name=\"ETL csv to db\"\n",
    "      # , retries=1\n",
    "      # , retry_delay_seconds=5\n",
    "      , log_prints=True\n",
    "      , description=\"load hết mấy file csv nối lại và ném vào db\"\n",
    "      )\n",
    "def build_flow(schedule=None):\n",
    "    # hiển thị thông tin flow chạy\n",
    "    logger = get_run_logger()\n",
    "    logger.info(\"ETL FILE CSV TO DATABASE USING PREFECT + PYTHON - 62_Nguyen Ngo Thuong SV_ETL_CSV \")\n",
    "    # print(\"print - 62_Nguyen Ngo Thuong SV_ETL_CSV\")\n",
    "\n",
    "    dfs = extract_csv()\n",
    "    df_final = transform_df(dfs)\n",
    "    load_df_to_db(df_final)\n",
    "\n",
    "    return flow"
   ]
  },
  {
   "cell_type": "code",
   "execution_count": 8,
   "metadata": {},
   "outputs": [
    {
     "data": {
      "text/html": [
       "<pre style=\"white-space:pre;overflow-x:auto;line-height:normal;font-family:Menlo,'DejaVu Sans Mono',consolas,'Courier New',monospace\">00:47:22.381 | <span style=\"color: #008080; text-decoration-color: #008080\">INFO</span>    | prefect.engine - Created flow run<span style=\"color: #800080; text-decoration-color: #800080\"> 'apricot-frigatebird'</span> for flow<span style=\"color: #800080; text-decoration-color: #800080; font-weight: bold\"> 'FLOW ETL csv TO DB - WEEK 3 - USING PREFECT PYTHON'</span>\n",
       "</pre>\n"
      ],
      "text/plain": [
       "00:47:22.381 | \u001b[36mINFO\u001b[0m    | prefect.engine - Created flow run\u001b[35m 'apricot-frigatebird'\u001b[0m for flow\u001b[1;35m 'FLOW ETL csv TO DB - WEEK 3 - USING PREFECT PYTHON'\u001b[0m\n"
      ]
     },
     "metadata": {},
     "output_type": "display_data"
    },
    {
     "data": {
      "text/html": [
       "<pre style=\"white-space:pre;overflow-x:auto;line-height:normal;font-family:Menlo,'DejaVu Sans Mono',consolas,'Courier New',monospace\">00:47:22.542 | <span style=\"color: #008080; text-decoration-color: #008080\">INFO</span>    | Flow run<span style=\"color: #800080; text-decoration-color: #800080\"> 'ETL csv to db'</span> - ETL FILE CSV TO DATABASE USING PREFECT + PYTHON - 62_Nguyen Ngo Thuong SV_ETL_CSV\n",
       "</pre>\n"
      ],
      "text/plain": [
       "00:47:22.542 | \u001b[36mINFO\u001b[0m    | Flow run\u001b[35m 'ETL csv to db'\u001b[0m - ETL FILE CSV TO DATABASE USING PREFECT + PYTHON - 62_Nguyen Ngo Thuong SV_ETL_CSV\n"
      ]
     },
     "metadata": {},
     "output_type": "display_data"
    },
    {
     "data": {
      "text/html": [
       "<pre style=\"white-space:pre;overflow-x:auto;line-height:normal;font-family:Menlo,'DejaVu Sans Mono',consolas,'Courier New',monospace\">00:47:22.586 | <span style=\"color: #008080; text-decoration-color: #008080\">INFO</span>    | Flow run<span style=\"color: #800080; text-decoration-color: #800080\"> 'ETL csv to db'</span> - Created task run 'convert sheet to dataframe-0' for task 'convert sheet to dataframe'\n",
       "</pre>\n"
      ],
      "text/plain": [
       "00:47:22.586 | \u001b[36mINFO\u001b[0m    | Flow run\u001b[35m 'ETL csv to db'\u001b[0m - Created task run 'convert sheet to dataframe-0' for task 'convert sheet to dataframe'\n"
      ]
     },
     "metadata": {},
     "output_type": "display_data"
    },
    {
     "data": {
      "text/html": [
       "<pre style=\"white-space:pre;overflow-x:auto;line-height:normal;font-family:Menlo,'DejaVu Sans Mono',consolas,'Courier New',monospace\">00:47:22.588 | <span style=\"color: #008080; text-decoration-color: #008080\">INFO</span>    | Flow run<span style=\"color: #800080; text-decoration-color: #800080\"> 'ETL csv to db'</span> - Executing 'convert sheet to dataframe-0' immediately...\n",
       "</pre>\n"
      ],
      "text/plain": [
       "00:47:22.588 | \u001b[36mINFO\u001b[0m    | Flow run\u001b[35m 'ETL csv to db'\u001b[0m - Executing 'convert sheet to dataframe-0' immediately...\n"
      ]
     },
     "metadata": {},
     "output_type": "display_data"
    },
    {
     "data": {
      "text/html": [
       "<pre style=\"white-space:pre;overflow-x:auto;line-height:normal;font-family:Menlo,'DejaVu Sans Mono',consolas,'Courier New',monospace\">00:47:22.661 | <span style=\"color: #008080; text-decoration-color: #008080\">INFO</span>    | Task run 'convert sheet to dataframe-0' - Finished in state Cached(type=COMPLETED)\n",
       "</pre>\n"
      ],
      "text/plain": [
       "00:47:22.661 | \u001b[36mINFO\u001b[0m    | Task run 'convert sheet to dataframe-0' - Finished in state Cached(type=COMPLETED)\n"
      ]
     },
     "metadata": {},
     "output_type": "display_data"
    },
    {
     "data": {
      "text/html": [
       "<pre style=\"white-space:pre;overflow-x:auto;line-height:normal;font-family:Menlo,'DejaVu Sans Mono',consolas,'Courier New',monospace\">00:47:22.753 | <span style=\"color: #008080; text-decoration-color: #008080\">INFO</span>    | Flow run<span style=\"color: #800080; text-decoration-color: #800080\"> 'ETL csv to db'</span> - Created task run 'merge join outer df-0' for task 'merge join outer df'\n",
       "</pre>\n"
      ],
      "text/plain": [
       "00:47:22.753 | \u001b[36mINFO\u001b[0m    | Flow run\u001b[35m 'ETL csv to db'\u001b[0m - Created task run 'merge join outer df-0' for task 'merge join outer df'\n"
      ]
     },
     "metadata": {},
     "output_type": "display_data"
    },
    {
     "data": {
      "text/html": [
       "<pre style=\"white-space:pre;overflow-x:auto;line-height:normal;font-family:Menlo,'DejaVu Sans Mono',consolas,'Courier New',monospace\">00:47:22.755 | <span style=\"color: #008080; text-decoration-color: #008080\">INFO</span>    | Flow run<span style=\"color: #800080; text-decoration-color: #800080\"> 'ETL csv to db'</span> - Executing 'merge join outer df-0' immediately...\n",
       "</pre>\n"
      ],
      "text/plain": [
       "00:47:22.755 | \u001b[36mINFO\u001b[0m    | Flow run\u001b[35m 'ETL csv to db'\u001b[0m - Executing 'merge join outer df-0' immediately...\n"
      ]
     },
     "metadata": {},
     "output_type": "display_data"
    },
    {
     "data": {
      "text/html": [
       "<pre style=\"white-space:pre;overflow-x:auto;line-height:normal;font-family:Menlo,'DejaVu Sans Mono',consolas,'Courier New',monospace\">00:47:22.849 | <span style=\"color: #008080; text-decoration-color: #008080\">INFO</span>    | Task run 'merge join outer df-0' - Finished in state Cached(type=COMPLETED)\n",
       "</pre>\n"
      ],
      "text/plain": [
       "00:47:22.849 | \u001b[36mINFO\u001b[0m    | Task run 'merge join outer df-0' - Finished in state Cached(type=COMPLETED)\n"
      ]
     },
     "metadata": {},
     "output_type": "display_data"
    },
    {
     "data": {
      "text/html": [
       "<pre style=\"white-space:pre;overflow-x:auto;line-height:normal;font-family:Menlo,'DejaVu Sans Mono',consolas,'Courier New',monospace\">00:47:22.988 | <span style=\"color: #008080; text-decoration-color: #008080\">INFO</span>    | Flow run<span style=\"color: #800080; text-decoration-color: #800080\"> 'ETL csv to db'</span> - Created task run 'load df vào database-0' for task 'load df vào database'\n",
       "</pre>\n"
      ],
      "text/plain": [
       "00:47:22.988 | \u001b[36mINFO\u001b[0m    | Flow run\u001b[35m 'ETL csv to db'\u001b[0m - Created task run 'load df vào database-0' for task 'load df vào database'\n"
      ]
     },
     "metadata": {},
     "output_type": "display_data"
    },
    {
     "data": {
      "text/html": [
       "<pre style=\"white-space:pre;overflow-x:auto;line-height:normal;font-family:Menlo,'DejaVu Sans Mono',consolas,'Courier New',monospace\">00:47:22.990 | <span style=\"color: #008080; text-decoration-color: #008080\">INFO</span>    | Flow run<span style=\"color: #800080; text-decoration-color: #800080\"> 'ETL csv to db'</span> - Executing 'load df vào database-0' immediately...\n",
       "</pre>\n"
      ],
      "text/plain": [
       "00:47:22.990 | \u001b[36mINFO\u001b[0m    | Flow run\u001b[35m 'ETL csv to db'\u001b[0m - Executing 'load df vào database-0' immediately...\n"
      ]
     },
     "metadata": {},
     "output_type": "display_data"
    },
    {
     "data": {
      "text/html": [
       "<pre style=\"white-space:pre;overflow-x:auto;line-height:normal;font-family:Menlo,'DejaVu Sans Mono',consolas,'Courier New',monospace\">00:47:23.086 | <span style=\"color: #008080; text-decoration-color: #008080\">INFO</span>    | Task run 'load df vào database-0' - Finished in state Cached(type=COMPLETED)\n",
       "</pre>\n"
      ],
      "text/plain": [
       "00:47:23.086 | \u001b[36mINFO\u001b[0m    | Task run 'load df vào database-0' - Finished in state Cached(type=COMPLETED)\n"
      ]
     },
     "metadata": {},
     "output_type": "display_data"
    },
    {
     "data": {
      "text/html": [
       "<pre style=\"white-space:pre;overflow-x:auto;line-height:normal;font-family:Menlo,'DejaVu Sans Mono',consolas,'Courier New',monospace\">00:47:23.126 | <span style=\"color: #008080; text-decoration-color: #008080\">INFO</span>    | Flow run<span style=\"color: #800080; text-decoration-color: #800080\"> 'apricot-frigatebird'</span> - Finished in state <span style=\"color: #008000; text-decoration-color: #008000\">Completed</span>()\n",
       "</pre>\n"
      ],
      "text/plain": [
       "00:47:23.126 | \u001b[36mINFO\u001b[0m    | Flow run\u001b[35m 'apricot-frigatebird'\u001b[0m - Finished in state \u001b[32mCompleted\u001b[0m()\n"
      ]
     },
     "metadata": {},
     "output_type": "display_data"
    }
   ],
   "source": [
    "# Đặt biến table_name ở phạm vi toàn cục\n",
    "table_name = 'ETL_CSV_02092023'\n",
    "\n",
    "flow = build_flow()\n"
   ]
  },
  {
   "cell_type": "markdown",
   "metadata": {},
   "source": [
    "Kiểm tra kết nối, truy vấn thử"
   ]
  },
  {
   "cell_type": "code",
   "execution_count": 10,
   "metadata": {},
   "outputs": [
    {
     "name": "stderr",
     "output_type": "stream",
     "text": [
      "c:\\Users\\admin\\AppData\\Local\\Programs\\Python\\Python310\\lib\\site-packages\\pandas\\io\\sql.py:761: UserWarning: pandas only support SQLAlchemy connectable(engine/connection) ordatabase string URI or sqlite3 DBAPI2 connectionother DBAPI2 objects are not tested, please consider using SQLAlchemy\n",
      "  warnings.warn(\n"
     ]
    },
    {
     "name": "stdout",
     "output_type": "stream",
     "text": [
      "<bound method NDFrame.head of        categoryID  categoryName                              description  \\\n",
      "0               1     Beverages  Soft drinks coffees teas beers and ales   \n",
      "1               1     Beverages  Soft drinks coffees teas beers and ales   \n",
      "2               6  Meat/Poultry                           Prepared meats   \n",
      "3               6  Meat/Poultry                           Prepared meats   \n",
      "4               8       Seafood                         Seaweed and fish   \n",
      "...           ...           ...                                      ...   \n",
      "10124           8       Seafood                         Seaweed and fish   \n",
      "10125           8       Seafood                         Seaweed and fish   \n",
      "10126           8       Seafood                         Seaweed and fish   \n",
      "10127           8       Seafood                         Seaweed and fish   \n",
      "10128           8       Seafood                         Seaweed and fish   \n",
      "\n",
      "       productID       productName  supplierID     quantityPerUnit  \\\n",
      "0              1              Chai           1  10 boxes x 20 bags   \n",
      "1              1              Chai           1  10 boxes x 20 bags   \n",
      "2             53     Perth Pasties          24           48 pieces   \n",
      "3             53     Perth Pasties          24           48 pieces   \n",
      "4             40  Boston Crab Meat          19      24 - 4 oz tins   \n",
      "...          ...               ...         ...                 ...   \n",
      "10124         46         Spegesild          21   4 - 450 g glasses   \n",
      "10125         46         Spegesild          21   4 - 450 g glasses   \n",
      "10126         46         Spegesild          21   4 - 450 g glasses   \n",
      "10127         46         Spegesild          21   4 - 450 g glasses   \n",
      "10128         46         Spegesild          21   4 - 450 g glasses   \n",
      "\n",
      "       unitPrice_x  unitsInStock  unitsOnOrder  ...       homePhone  \\\n",
      "0             18.0            39             0  ...  (206) 555-9857   \n",
      "1             18.0            39             0  ...  (206) 555-9857   \n",
      "2             32.8             0             0  ...  (206) 555-9857   \n",
      "3             32.8             0             0  ...  (206) 555-9857   \n",
      "4             18.4           123             0  ...  (206) 555-9857   \n",
      "...            ...           ...           ...  ...             ...   \n",
      "10124         12.0            95             0  ...   (71) 555-5598   \n",
      "10125         12.0            95             0  ...  (206) 555-9857   \n",
      "10126         12.0            95             0  ...  (206) 555-9857   \n",
      "10127         12.0            95             0  ...  (206) 555-9857   \n",
      "10128         12.0            95             0  ...  (206) 555-9857   \n",
      "\n",
      "       extension                                              photo  \\\n",
      "0         5467.0  0x151C2F00020000000D000E0014002100FFFFFFFF4269...   \n",
      "1         5467.0  0x151C2F00020000000D000E0014002100FFFFFFFF4269...   \n",
      "2         5467.0  0x151C2F00020000000D000E0014002100FFFFFFFF4269...   \n",
      "3         5467.0  0x151C2F00020000000D000E0014002100FFFFFFFF4269...   \n",
      "4         5467.0  0x151C2F00020000000D000E0014002100FFFFFFFF4269...   \n",
      "...          ...                                                ...   \n",
      "10124      465.0  0x151C2F00020000000D000E0014002100FFFFFFFF4269...   \n",
      "10125     5467.0  0x151C2F00020000000D000E0014002100FFFFFFFF4269...   \n",
      "10126     5467.0  0x151C2F00020000000D000E0014002100FFFFFFFF4269...   \n",
      "10127     5467.0  0x151C2F00020000000D000E0014002100FFFFFFFF4269...   \n",
      "10128     5467.0  0x151C2F00020000000D000E0014002100FFFFFFFF4269...   \n",
      "\n",
      "                                                   notes reportsTo  \\\n",
      "0      Education includes a BA in psychology from Col...       2.0   \n",
      "1      Education includes a BA in psychology from Col...       2.0   \n",
      "2      Education includes a BA in psychology from Col...       2.0   \n",
      "3      Education includes a BA in psychology from Col...       2.0   \n",
      "4      Education includes a BA in psychology from Col...       2.0   \n",
      "...                                                  ...       ...   \n",
      "10124  Robert King served in the Peace Corps and trav...       5.0   \n",
      "10125  Education includes a BA in psychology from Col...       2.0   \n",
      "10126  Education includes a BA in psychology from Col...       2.0   \n",
      "10127  Education includes a BA in psychology from Col...       2.0   \n",
      "10128  Education includes a BA in psychology from Col...       2.0   \n",
      "\n",
      "                                  photoPath territoryID territoryDescription  \\\n",
      "0      http://accweb/emmployees/davolio.bmp        6897               Wilton   \n",
      "1      http://accweb/emmployees/davolio.bmp       19713               Neward   \n",
      "2      http://accweb/emmployees/davolio.bmp        6897               Wilton   \n",
      "3      http://accweb/emmployees/davolio.bmp       19713               Neward   \n",
      "4      http://accweb/emmployees/davolio.bmp        6897               Wilton   \n",
      "...                                     ...         ...                  ...   \n",
      "10124  http://accweb/emmployees/davolio.bmp       95060            SantaCruz   \n",
      "10125  http://accweb/emmployees/davolio.bmp        6897               Wilton   \n",
      "10126  http://accweb/emmployees/davolio.bmp       19713               Neward   \n",
      "10127  http://accweb/emmployees/davolio.bmp        6897               Wilton   \n",
      "10128  http://accweb/emmployees/davolio.bmp       19713               Neward   \n",
      "\n",
      "      regionID regionDescription  \n",
      "0            1           Eastern  \n",
      "1            1           Eastern  \n",
      "2            1           Eastern  \n",
      "3            1           Eastern  \n",
      "4            1           Eastern  \n",
      "...        ...               ...  \n",
      "10124        2           Western  \n",
      "10125        1           Eastern  \n",
      "10126        1           Eastern  \n",
      "10127        1           Eastern  \n",
      "10128        1           Eastern  \n",
      "\n",
      "[10129 rows x 71 columns]>\n"
     ]
    }
   ],
   "source": [
    "conn_str, engine = mdl_db_connection.connect_db()\n",
    "\n",
    "# Kết nối đến cơ sở dữ liệu\n",
    "conx = pyodbc.connect(conn_str)\n",
    "\n",
    "# Truy vấn để lấy dữ liệu\n",
    "query = f\"SELECT * FROM {table_name}\"\n",
    "\n",
    "# Đọc dữ liệu từ truy vấn và tạo DataFrame\n",
    "data = pd.read_sql(query, conx)\n",
    "\n",
    "# Đóng kết nối pyodbc\n",
    "conx.close()\n",
    "\n",
    "# Hiển thị DataFrame\n",
    "print(data.head)\n"
   ]
  },
  {
   "cell_type": "markdown",
   "metadata": {},
   "source": [
    "# test prefect"
   ]
  }
 ],
 "metadata": {
  "kernelspec": {
   "display_name": "Python 3",
   "language": "python",
   "name": "python3"
  },
  "language_info": {
   "codemirror_mode": {
    "name": "ipython",
    "version": 3
   },
   "file_extension": ".py",
   "mimetype": "text/x-python",
   "name": "python",
   "nbconvert_exporter": "python",
   "pygments_lexer": "ipython3",
   "version": "3.10.9"
  },
  "orig_nbformat": 4
 },
 "nbformat": 4,
 "nbformat_minor": 2
}
