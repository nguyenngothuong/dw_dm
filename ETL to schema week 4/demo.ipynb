{
 "cells": [
  {
   "cell_type": "code",
   "execution_count": 3,
   "metadata": {},
   "outputs": [
    {
     "name": "stdout",
     "output_type": "stream",
     "text": [
      "    Country   City  Sales  LocationID\n",
      "0  CountryA  CityX    100         1.0\n",
      "1  CountryB  CityY    150         2.0\n",
      "2  CountryA  CityZ    200         NaN\n",
      "    Country   City  LocationID\n",
      "0  CountryA  CityX           1\n",
      "1  CountryB  CityY           2\n"
     ]
    }
   ],
   "source": [
    "import pandas as pd\n",
    "\n",
    "# Tạo DataFrame cho fact_table và Location\n",
    "data_fact = {\n",
    "    'Country': ['CountryA', 'CountryB', 'CountryA'],\n",
    "    'City': ['CityX', 'CityY', 'CityZ'],\n",
    "    'Sales': [100, 150, 200]\n",
    "}\n",
    "\n",
    "data_location = {\n",
    "    'Country': ['CountryA', 'CountryB'],\n",
    "    'City': ['CityX', 'CityY'],\n",
    "    'LocationID': [1, 2]\n",
    "}\n",
    "\n",
    "fact_table = pd.DataFrame(data_fact)\n",
    "location_table = pd.DataFrame(data_location)\n",
    "\n",
    "# Thêm cột LocationID vào fact_table và cập nhật dữ liệu\n",
    "fact_table['LocationID'] = fact_table.merge(location_table, on=['Country', 'City'], how='left')['LocationID']\n",
    "\n",
    "# In fact_table sau khi cập nhật\n",
    "print(fact_table)\n",
    "print(location_table)\n"
   ]
  }
 ],
 "metadata": {
  "kernelspec": {
   "display_name": "Python 3",
   "language": "python",
   "name": "python3"
  },
  "language_info": {
   "codemirror_mode": {
    "name": "ipython",
    "version": 3
   },
   "file_extension": ".py",
   "mimetype": "text/x-python",
   "name": "python",
   "nbconvert_exporter": "python",
   "pygments_lexer": "ipython3",
   "version": "3.10.9"
  },
  "orig_nbformat": 4
 },
 "nbformat": 4,
 "nbformat_minor": 2
}
